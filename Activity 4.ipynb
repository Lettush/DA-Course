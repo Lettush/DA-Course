{
 "cells": [
  {
   "cell_type": "markdown",
   "metadata": {},
   "source": [
    "### **Data Analytics Task: Customer Feedback Analysis**\n",
    "\n",
    "**Scenario:**\n",
    "You work as a data analyst for a company that collects customer feedback across several service categories, including Timeliness, Quality, and Customer Support. Each feedback entry includes a customer ID, the service category, and a rating from 1 to 5 (where 5 is the highest level of satisfaction). Your task is to analyze this feedback to identify areas of strength and opportunities for improvement.\n",
    "\n",
    "**Objective:**\n",
    "- Calculate the average rating for each service category.\n",
    "- Identify the service category with the highest and lowest average rating.\n",
    "- Determine the distribution of ratings for each category (how many 1s, 2s, etc.).\n",
    "- Suggest actionable insights based on the analysis."
   ]
  },
  {
   "cell_type": "code",
   "execution_count": 2,
   "metadata": {},
   "outputs": [
    {
     "data": {
      "text/html": [
       "<div>\n",
       "<style scoped>\n",
       "    .dataframe tbody tr th:only-of-type {\n",
       "        vertical-align: middle;\n",
       "    }\n",
       "\n",
       "    .dataframe tbody tr th {\n",
       "        vertical-align: top;\n",
       "    }\n",
       "\n",
       "    .dataframe thead th {\n",
       "        text-align: right;\n",
       "    }\n",
       "</style>\n",
       "<table border=\"1\" class=\"dataframe\">\n",
       "  <thead>\n",
       "    <tr style=\"text-align: right;\">\n",
       "      <th></th>\n",
       "      <th>CustomerID</th>\n",
       "      <th>Category</th>\n",
       "      <th>Rating</th>\n",
       "    </tr>\n",
       "  </thead>\n",
       "  <tbody>\n",
       "    <tr>\n",
       "      <th>0</th>\n",
       "      <td>C001</td>\n",
       "      <td>Timeliness</td>\n",
       "      <td>4</td>\n",
       "    </tr>\n",
       "    <tr>\n",
       "      <th>1</th>\n",
       "      <td>C002</td>\n",
       "      <td>Quality</td>\n",
       "      <td>5</td>\n",
       "    </tr>\n",
       "    <tr>\n",
       "      <th>2</th>\n",
       "      <td>C003</td>\n",
       "      <td>Customer Support</td>\n",
       "      <td>3</td>\n",
       "    </tr>\n",
       "    <tr>\n",
       "      <th>3</th>\n",
       "      <td>C004</td>\n",
       "      <td>Timeliness</td>\n",
       "      <td>2</td>\n",
       "    </tr>\n",
       "    <tr>\n",
       "      <th>4</th>\n",
       "      <td>C005</td>\n",
       "      <td>Quality</td>\n",
       "      <td>4</td>\n",
       "    </tr>\n",
       "    <tr>\n",
       "      <th>5</th>\n",
       "      <td>C006</td>\n",
       "      <td>Customer Support</td>\n",
       "      <td>5</td>\n",
       "    </tr>\n",
       "    <tr>\n",
       "      <th>6</th>\n",
       "      <td>C007</td>\n",
       "      <td>Timeliness</td>\n",
       "      <td>5</td>\n",
       "    </tr>\n",
       "    <tr>\n",
       "      <th>7</th>\n",
       "      <td>C008</td>\n",
       "      <td>Quality</td>\n",
       "      <td>3</td>\n",
       "    </tr>\n",
       "    <tr>\n",
       "      <th>8</th>\n",
       "      <td>C009</td>\n",
       "      <td>Customer Support</td>\n",
       "      <td>2</td>\n",
       "    </tr>\n",
       "    <tr>\n",
       "      <th>9</th>\n",
       "      <td>C010</td>\n",
       "      <td>Timeliness</td>\n",
       "      <td>4</td>\n",
       "    </tr>\n",
       "  </tbody>\n",
       "</table>\n",
       "</div>"
      ],
      "text/plain": [
       "  CustomerID          Category  Rating\n",
       "0       C001        Timeliness       4\n",
       "1       C002           Quality       5\n",
       "2       C003  Customer Support       3\n",
       "3       C004        Timeliness       2\n",
       "4       C005           Quality       4\n",
       "5       C006  Customer Support       5\n",
       "6       C007        Timeliness       5\n",
       "7       C008           Quality       3\n",
       "8       C009  Customer Support       2\n",
       "9       C010        Timeliness       4"
      ]
     },
     "execution_count": 2,
     "metadata": {},
     "output_type": "execute_result"
    }
   ],
   "source": [
    "import pandas as pd\n",
    "\n",
    "data = pd.read_csv(\"./modules/customer_feedback.csv\")\n",
    "data"
   ]
  },
  {
   "cell_type": "code",
   "execution_count": 7,
   "metadata": {},
   "outputs": [
    {
     "data": {
      "text/plain": [
       "Category\n",
       "Customer Support    3.333333\n",
       "Quality             4.000000\n",
       "Timeliness          3.750000\n",
       "Name: Rating, dtype: float64"
      ]
     },
     "execution_count": 7,
     "metadata": {},
     "output_type": "execute_result"
    }
   ],
   "source": [
    "category_ratings = data.groupby('Category')['Rating']\n",
    "category_ratings.mean()"
   ]
  },
  {
   "cell_type": "code",
   "execution_count": 13,
   "metadata": {},
   "outputs": [
    {
     "name": "stdout",
     "output_type": "stream",
     "text": [
      "Quality, Customer Support\n"
     ]
    }
   ],
   "source": [
    "highest_average = category_ratings.mean().idxmax()\n",
    "lowest_average = category_ratings.mean().idxmin()\n",
    "\n",
    "print(f\"{highest_average}, {lowest_average}\")"
   ]
  },
  {
   "cell_type": "code",
   "execution_count": 26,
   "metadata": {},
   "outputs": [
    {
     "data": {
      "text/html": [
       "<div>\n",
       "<style scoped>\n",
       "    .dataframe tbody tr th:only-of-type {\n",
       "        vertical-align: middle;\n",
       "    }\n",
       "\n",
       "    .dataframe tbody tr th {\n",
       "        vertical-align: top;\n",
       "    }\n",
       "\n",
       "    .dataframe thead th {\n",
       "        text-align: right;\n",
       "    }\n",
       "</style>\n",
       "<table border=\"1\" class=\"dataframe\">\n",
       "  <thead>\n",
       "    <tr style=\"text-align: right;\">\n",
       "      <th>Rating</th>\n",
       "      <th>2</th>\n",
       "      <th>3</th>\n",
       "      <th>4</th>\n",
       "      <th>5</th>\n",
       "    </tr>\n",
       "    <tr>\n",
       "      <th>Category</th>\n",
       "      <th></th>\n",
       "      <th></th>\n",
       "      <th></th>\n",
       "      <th></th>\n",
       "    </tr>\n",
       "  </thead>\n",
       "  <tbody>\n",
       "    <tr>\n",
       "      <th>Customer Support</th>\n",
       "      <td>1</td>\n",
       "      <td>1</td>\n",
       "      <td>0</td>\n",
       "      <td>1</td>\n",
       "    </tr>\n",
       "    <tr>\n",
       "      <th>Quality</th>\n",
       "      <td>0</td>\n",
       "      <td>1</td>\n",
       "      <td>1</td>\n",
       "      <td>1</td>\n",
       "    </tr>\n",
       "    <tr>\n",
       "      <th>Timeliness</th>\n",
       "      <td>1</td>\n",
       "      <td>0</td>\n",
       "      <td>2</td>\n",
       "      <td>1</td>\n",
       "    </tr>\n",
       "  </tbody>\n",
       "</table>\n",
       "</div>"
      ],
      "text/plain": [
       "Rating            2  3  4  5\n",
       "Category                    \n",
       "Customer Support  1  1  0  1\n",
       "Quality           0  1  1  1\n",
       "Timeliness        1  0  2  1"
      ]
     },
     "execution_count": 26,
     "metadata": {},
     "output_type": "execute_result"
    }
   ],
   "source": [
    "# Unstack to fill null values with 0\n",
    "data.groupby('Category')['Rating'].value_counts().unstack(fill_value=0)"
   ]
  },
  {
   "cell_type": "markdown",
   "metadata": {},
   "source": [
    "### **Interpretation of Results**\n",
    "\n",
    "**Average Rating For Each Service Category:**\n",
    "- Customer Support:   3.33\n",
    "- Quality:            4.00\n",
    "- Timeliness:         3.75\n",
    "\n",
    "Quality has the **highest average** suggesting that the service/product offered by the company is always kept to standard. Customer support has the **lowest average** indicating that after-sales service needs to be worked on, or actionable solutions are hard to relay towards customers. Timeliness is in between both categories, suggesting that the punctuality of employees is at a moderate to decent level.\n",
    "\n",
    "**Distribution of ratings for each category:**\n",
    "\n",
    "\n",
    "| Rating\t       |1   |2\t |3\t  |4   |5   |\n",
    "|------------------|----|----|----|----|----|\n",
    "| **Category**     |    |    |    |    |    |\t\n",
    "| Customer Support |0   |1\t |1\t  |0   |1   |\n",
    "| Quality\t       |0   |0\t |1\t  |1   |1   |\n",
    "| Timeliness\t   |0   |1\t |0\t  |2   |1   |\n",
    "\n",
    "### **Recommendations**\n",
    "- **Staff Training/Briefing on newer services/products**: A crash course/manual on the newest products/services can increase the quality of After-Sales Care that can be offered to defective items.\n",
    "- **Quality Control**: As Customer Support is an issue, products that pass through Quality Control can alleviate the need for Customer Support, as maybe upon extended use, the product does not offer the same level of quality."
   ]
  },
  {
   "cell_type": "markdown",
   "metadata": {},
   "source": []
  }
 ],
 "metadata": {
  "kernelspec": {
   "display_name": "venv",
   "language": "python",
   "name": "python3"
  },
  "language_info": {
   "codemirror_mode": {
    "name": "ipython",
    "version": 3
   },
   "file_extension": ".py",
   "mimetype": "text/x-python",
   "name": "python",
   "nbconvert_exporter": "python",
   "pygments_lexer": "ipython3",
   "version": "3.12.0"
  }
 },
 "nbformat": 4,
 "nbformat_minor": 2
}
