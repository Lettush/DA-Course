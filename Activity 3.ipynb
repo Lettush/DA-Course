{
 "cells": [
  {
   "cell_type": "markdown",
   "metadata": {},
   "source": [
    "# Data Analytics Task: E-commerce Sales Analysis\n",
    "### Scenario:\n",
    "You are a data analyst at an e-commerce company. Your task is to analyze the past month's sales data across various product categories. The dataset includes information on the ProductID, Category, UnitsSold, and UnitPrice for each sale.\n",
    "\n",
    "### Objective:\n",
    "- Calculate the total revenue for each product category.\n",
    "- Determine the best-selling product in each category.\n",
    "- Find the overall top-selling product based on units sold.\n",
    "- Identify the category generating the highest revenue.\n",
    "- Analyze sales trends and provide insights for potential inventory adjustments."
   ]
  },
  {
   "cell_type": "code",
   "execution_count": 7,
   "metadata": {},
   "outputs": [
    {
     "data": {
      "text/html": [
       "<div>\n",
       "<style scoped>\n",
       "    .dataframe tbody tr th:only-of-type {\n",
       "        vertical-align: middle;\n",
       "    }\n",
       "\n",
       "    .dataframe tbody tr th {\n",
       "        vertical-align: top;\n",
       "    }\n",
       "\n",
       "    .dataframe thead th {\n",
       "        text-align: right;\n",
       "    }\n",
       "</style>\n",
       "<table border=\"1\" class=\"dataframe\">\n",
       "  <thead>\n",
       "    <tr style=\"text-align: right;\">\n",
       "      <th></th>\n",
       "      <th>ProductID</th>\n",
       "      <th>Category</th>\n",
       "      <th>UnitsSold</th>\n",
       "      <th>UnitPrice</th>\n",
       "    </tr>\n",
       "  </thead>\n",
       "  <tbody>\n",
       "    <tr>\n",
       "      <th>0</th>\n",
       "      <td>P001</td>\n",
       "      <td>Electronics</td>\n",
       "      <td>20.0</td>\n",
       "      <td>299.99</td>\n",
       "    </tr>\n",
       "    <tr>\n",
       "      <th>1</th>\n",
       "      <td>P002</td>\n",
       "      <td>Home &amp; Kitchen</td>\n",
       "      <td>35.0</td>\n",
       "      <td>89.99</td>\n",
       "    </tr>\n",
       "    <tr>\n",
       "      <th>2</th>\n",
       "      <td>P003</td>\n",
       "      <td>Electronics</td>\n",
       "      <td>15.0</td>\n",
       "      <td>199.99</td>\n",
       "    </tr>\n",
       "    <tr>\n",
       "      <th>3</th>\n",
       "      <td>P004</td>\n",
       "      <td>Books</td>\n",
       "      <td>60.0</td>\n",
       "      <td>9.99</td>\n",
       "    </tr>\n",
       "    <tr>\n",
       "      <th>4</th>\n",
       "      <td>P005</td>\n",
       "      <td>Electronics</td>\n",
       "      <td>30.0</td>\n",
       "      <td>149.99</td>\n",
       "    </tr>\n",
       "    <tr>\n",
       "      <th>5</th>\n",
       "      <td>P006</td>\n",
       "      <td>Books</td>\n",
       "      <td>40.0</td>\n",
       "      <td>19.99</td>\n",
       "    </tr>\n",
       "    <tr>\n",
       "      <th>6</th>\n",
       "      <td>P007</td>\n",
       "      <td>Home &amp; Kitchen</td>\n",
       "      <td>25.0</td>\n",
       "      <td>79.99</td>\n",
       "    </tr>\n",
       "    <tr>\n",
       "      <th>7</th>\n",
       "      <td>P008</td>\n",
       "      <td>Books</td>\n",
       "      <td>50.0</td>\n",
       "      <td>14.99</td>\n",
       "    </tr>\n",
       "    <tr>\n",
       "      <th>8</th>\n",
       "      <td>P009</td>\n",
       "      <td>Electronics</td>\n",
       "      <td>10.0</td>\n",
       "      <td>399.99</td>\n",
       "    </tr>\n",
       "    <tr>\n",
       "      <th>9</th>\n",
       "      <td>P010</td>\n",
       "      <td>Home &amp; Kitchen</td>\n",
       "      <td>20.0</td>\n",
       "      <td>99.99</td>\n",
       "    </tr>\n",
       "  </tbody>\n",
       "</table>\n",
       "</div>"
      ],
      "text/plain": [
       "  ProductID        Category  UnitsSold  UnitPrice\n",
       "0      P001     Electronics       20.0     299.99\n",
       "1      P002  Home & Kitchen       35.0      89.99\n",
       "2      P003     Electronics       15.0     199.99\n",
       "3      P004           Books       60.0       9.99\n",
       "4      P005     Electronics       30.0     149.99\n",
       "5      P006           Books       40.0      19.99\n",
       "6      P007  Home & Kitchen       25.0      79.99\n",
       "7      P008           Books       50.0      14.99\n",
       "8      P009     Electronics       10.0     399.99\n",
       "9      P010  Home & Kitchen       20.0      99.99"
      ]
     },
     "execution_count": 7,
     "metadata": {},
     "output_type": "execute_result"
    }
   ],
   "source": [
    "import pandas as pd\n",
    "\n",
    "data = pd.read_csv(\"./modules/ecommerce_sales.csv\")\n",
    "data = data.dropna()\n",
    "data"
   ]
  },
  {
   "cell_type": "code",
   "execution_count": 14,
   "metadata": {},
   "outputs": [
    {
     "data": {
      "text/plain": [
       "Category\n",
       "Books              2148.50\n",
       "Electronics       17499.25\n",
       "Home & Kitchen     7149.20\n",
       "Name: Total Revenue, dtype: float64"
      ]
     },
     "execution_count": 14,
     "metadata": {},
     "output_type": "execute_result"
    }
   ],
   "source": [
    "# Sum of all categories\n",
    "data['Total Revenue'] = data[\"UnitsSold\"] * data[\"UnitPrice\"]\n",
    "\n",
    "# Get only unique categories\n",
    "category_revenue = data.groupby('Category')['Total Revenue'].sum()\n",
    "category_revenue"
   ]
  },
  {
   "cell_type": "code",
   "execution_count": 17,
   "metadata": {},
   "outputs": [
    {
     "data": {
      "text/html": [
       "<div>\n",
       "<style scoped>\n",
       "    .dataframe tbody tr th:only-of-type {\n",
       "        vertical-align: middle;\n",
       "    }\n",
       "\n",
       "    .dataframe tbody tr th {\n",
       "        vertical-align: top;\n",
       "    }\n",
       "\n",
       "    .dataframe thead th {\n",
       "        text-align: right;\n",
       "    }\n",
       "</style>\n",
       "<table border=\"1\" class=\"dataframe\">\n",
       "  <thead>\n",
       "    <tr style=\"text-align: right;\">\n",
       "      <th></th>\n",
       "      <th>ProductID</th>\n",
       "      <th>Category</th>\n",
       "      <th>UnitsSold</th>\n",
       "      <th>UnitPrice</th>\n",
       "      <th>Total Revenue</th>\n",
       "    </tr>\n",
       "  </thead>\n",
       "  <tbody>\n",
       "    <tr>\n",
       "      <th>3</th>\n",
       "      <td>P004</td>\n",
       "      <td>Books</td>\n",
       "      <td>60.0</td>\n",
       "      <td>9.99</td>\n",
       "      <td>599.40</td>\n",
       "    </tr>\n",
       "    <tr>\n",
       "      <th>4</th>\n",
       "      <td>P005</td>\n",
       "      <td>Electronics</td>\n",
       "      <td>30.0</td>\n",
       "      <td>149.99</td>\n",
       "      <td>4499.70</td>\n",
       "    </tr>\n",
       "    <tr>\n",
       "      <th>1</th>\n",
       "      <td>P002</td>\n",
       "      <td>Home &amp; Kitchen</td>\n",
       "      <td>35.0</td>\n",
       "      <td>89.99</td>\n",
       "      <td>3149.65</td>\n",
       "    </tr>\n",
       "  </tbody>\n",
       "</table>\n",
       "</div>"
      ],
      "text/plain": [
       "  ProductID        Category  UnitsSold  UnitPrice  Total Revenue\n",
       "3      P004           Books       60.0       9.99         599.40\n",
       "4      P005     Electronics       30.0     149.99        4499.70\n",
       "1      P002  Home & Kitchen       35.0      89.99        3149.65"
      ]
     },
     "execution_count": 17,
     "metadata": {},
     "output_type": "execute_result"
    }
   ],
   "source": [
    "# idxmax to get the highest's index\n",
    "best_selling_products = data.loc[data.groupby(\"Category\")['UnitsSold'].idxmax()]\n",
    "best_selling_products"
   ]
  },
  {
   "cell_type": "code",
   "execution_count": 21,
   "metadata": {},
   "outputs": [
    {
     "data": {
      "text/plain": [
       "ProductID         P004\n",
       "Category         Books\n",
       "UnitsSold         60.0\n",
       "UnitPrice         9.99\n",
       "Total Revenue    599.4\n",
       "Name: 3, dtype: object"
      ]
     },
     "execution_count": 21,
     "metadata": {},
     "output_type": "execute_result"
    }
   ],
   "source": [
    "top_selling_products = data.loc[data['UnitsSold'].idxmax()]\n",
    "top_selling_products"
   ]
  },
  {
   "cell_type": "code",
   "execution_count": 23,
   "metadata": {},
   "outputs": [
    {
     "data": {
      "text/plain": [
       "'Electronics'"
      ]
     },
     "execution_count": 23,
     "metadata": {},
     "output_type": "execute_result"
    }
   ],
   "source": [
    "category_revenue.idxmax()"
   ]
  },
  {
   "cell_type": "markdown",
   "metadata": {},
   "source": [
    "### **Interpretation of Results**\n",
    "\n",
    "**Total Revenue By Category:**\n",
    "\n",
    "- **Books**: 2148.50\n",
    "- **Electronics**: 17499.25\n",
    "- **Home & Kitchen**: 7149.20\n",
    "\n",
    "The total revenue per category shows that Electronics sold the most compared to the rest.\n",
    "It suggests that Electronics are the highest in demand, price, or both compared to the other appliances.\n",
    "\n",
    "**Overall Top-Selling Product:**\n",
    "\n",
    "- Product ID P004, selling 60 units. While electronics generate more revenue, the highest sales were observed for P004 of the Books category.\n",
    "\n",
    "**Best-Selling Product In Each Category:**\n",
    "\n",
    "- **Books**: Product ID P004 with 60 units sold, generating $599.40 in revenue.\n",
    "- **Electronics**: Product ID P005 with 30 units sold, generating $4,499.70 in revenue.\n",
    "- **Home & Kitchen**: Product ID P002 with 35 units sold, generating $3,149.65 in revenue.\n",
    "\n",
    "### **Recommendations**\n",
    "\n",
    "- **Focus on High-Value categories**: Given that electronics makes the most revenue, consider increasing inventory for popular electronic appliances.\n",
    "- **Volume vs Value**: Books show potential in terms of volume. Strategies such as bundling books with related electronics or home and kitchen products with cookbooks could increase sales across categories.\n",
    "- **Promotional Activities**: For the Home and Kitchen category, which has a moderate performance in both revenue and units sold, target promitions or discounts could stimulate additional sales.\n",
    "- **Customer Feedback**: Gather customer feedback, specifically for top-selling and high-revenue products to understand what drives their success. Use these insights to improve or highlight similar products in marketing campaigns\n",
    "- **Inventory Management**: Adjust inventory levels based on sales data to ensure that high-demand products are always in stock, especially in the Electronics category, to maximize revenue potential."
   ]
  },
  {
   "cell_type": "markdown",
   "metadata": {},
   "source": []
  }
 ],
 "metadata": {
  "kernelspec": {
   "display_name": "venv",
   "language": "python",
   "name": "python3"
  },
  "language_info": {
   "codemirror_mode": {
    "name": "ipython",
    "version": 3
   },
   "file_extension": ".py",
   "mimetype": "text/x-python",
   "name": "python",
   "nbconvert_exporter": "python",
   "pygments_lexer": "ipython3",
   "version": "3.12.0"
  }
 },
 "nbformat": 4,
 "nbformat_minor": 2
}
