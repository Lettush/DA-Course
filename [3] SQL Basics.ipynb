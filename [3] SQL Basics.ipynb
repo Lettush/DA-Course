{
 "cells": [
  {
   "cell_type": "code",
   "execution_count": 1,
   "metadata": {},
   "outputs": [],
   "source": [
    "%load_ext sql\n",
    "%sql sqlite:///./db/fast_food_restaurants.db"
   ]
  },
  {
   "cell_type": "code",
   "execution_count": 2,
   "metadata": {},
   "outputs": [
    {
     "name": "stdout",
     "output_type": "stream",
     "text": [
      " * sqlite:///./db/fast_food_restaurants.db\n",
      "Done.\n"
     ]
    },
    {
     "data": {
      "text/html": [
       "<table>\n",
       "    <thead>\n",
       "        <tr>\n",
       "            <th>id</th>\n",
       "            <th>address</th>\n",
       "            <th>city</th>\n",
       "            <th>country</th>\n",
       "            <th>latitude</th>\n",
       "            <th>longitude</th>\n",
       "            <th>postalCode</th>\n",
       "            <th>province</th>\n",
       "        </tr>\n",
       "    </thead>\n",
       "    <tbody>\n",
       "        <tr>\n",
       "            <td>AVwcmSyZIN2L1WUfmxyw</td>\n",
       "            <td>800 N Canal Blvd</td>\n",
       "            <td>Thibodaux</td>\n",
       "            <td>US</td>\n",
       "            <td>29.814697</td>\n",
       "            <td>-90.814742</td>\n",
       "            <td>70301</td>\n",
       "            <td>LA</td>\n",
       "        </tr>\n",
       "        <tr>\n",
       "            <td>AVwcmSyZIN2L1WUfmxyw</td>\n",
       "            <td>800 N Canal Blvd</td>\n",
       "            <td>Thibodaux</td>\n",
       "            <td>US</td>\n",
       "            <td>29.814697</td>\n",
       "            <td>-90.814742</td>\n",
       "            <td>70301</td>\n",
       "            <td>LA</td>\n",
       "        </tr>\n",
       "        <tr>\n",
       "            <td>AVwcopQoByjofQCxgfVa</td>\n",
       "            <td>206 Wears Valley Rd</td>\n",
       "            <td>Pigeon Forge</td>\n",
       "            <td>US</td>\n",
       "            <td>35.803788</td>\n",
       "            <td>-83.580553</td>\n",
       "            <td>37863</td>\n",
       "            <td>TN</td>\n",
       "        </tr>\n",
       "        <tr>\n",
       "            <td>AVweXN5RByjofQCxxilK</td>\n",
       "            <td>3652 Parkway</td>\n",
       "            <td>Pigeon Forge</td>\n",
       "            <td>US</td>\n",
       "            <td>35.782339</td>\n",
       "            <td>-83.551408</td>\n",
       "            <td>37863</td>\n",
       "            <td>TN</td>\n",
       "        </tr>\n",
       "        <tr>\n",
       "            <td>AWQ6MUvo3-Khe5l_j3SG</td>\n",
       "            <td>2118 Mt Zion Parkway</td>\n",
       "            <td>Morrow</td>\n",
       "            <td>US</td>\n",
       "            <td>33.562738</td>\n",
       "            <td>-84.321143</td>\n",
       "            <td>30260</td>\n",
       "            <td>GA</td>\n",
       "        </tr>\n",
       "    </tbody>\n",
       "</table>"
      ],
      "text/plain": [
       "[('AVwcmSyZIN2L1WUfmxyw', '800 N Canal Blvd', 'Thibodaux', 'US', 29.814697, -90.814742, '70301', 'LA'),\n",
       " ('AVwcmSyZIN2L1WUfmxyw', '800 N Canal Blvd', 'Thibodaux', 'US', 29.814697, -90.814742, '70301', 'LA'),\n",
       " ('AVwcopQoByjofQCxgfVa', '206 Wears Valley Rd', 'Pigeon Forge', 'US', 35.803788, -83.580553, '37863', 'TN'),\n",
       " ('AVweXN5RByjofQCxxilK', '3652 Parkway', 'Pigeon Forge', 'US', 35.782339, -83.551408, '37863', 'TN'),\n",
       " ('AWQ6MUvo3-Khe5l_j3SG', '2118 Mt Zion Parkway', 'Morrow', 'US', 33.562738, -84.321143, '30260', 'GA')]"
      ]
     },
     "execution_count": 2,
     "metadata": {},
     "output_type": "execute_result"
    }
   ],
   "source": [
    "%sql SELECT * FROM location_info LIMIT 5"
   ]
  },
  {
   "cell_type": "code",
   "execution_count": 3,
   "metadata": {},
   "outputs": [
    {
     "name": "stdout",
     "output_type": "stream",
     "text": [
      " * sqlite:///./db/fast_food_restaurants.db\n",
      "Done.\n"
     ]
    },
    {
     "data": {
      "text/html": [
       "<table>\n",
       "    <thead>\n",
       "        <tr>\n",
       "            <th>NumberOfRestaurants</th>\n",
       "        </tr>\n",
       "    </thead>\n",
       "    <tbody>\n",
       "        <tr>\n",
       "            <td>107</td>\n",
       "        </tr>\n",
       "        <tr>\n",
       "            <td>82</td>\n",
       "        </tr>\n",
       "        <tr>\n",
       "            <td>78</td>\n",
       "        </tr>\n",
       "        <tr>\n",
       "            <td>72</td>\n",
       "        </tr>\n",
       "        <tr>\n",
       "            <td>66</td>\n",
       "        </tr>\n",
       "    </tbody>\n",
       "</table>"
      ],
      "text/plain": [
       "[(107,), (82,), (78,), (72,), (66,)]"
      ]
     },
     "execution_count": 3,
     "metadata": {},
     "output_type": "execute_result"
    }
   ],
   "source": [
    "# COUNT(*) = Count of all rows\n",
    "# location_info = table\n",
    "# GROUP BY = category to group\n",
    "# ORDER BY = value basis for sort\n",
    "# DESC = Highest to Lowest\n",
    "# LIMIT = Limit select\n",
    "\n",
    "%sql SELECT COUNT(*) as NumberOfRestaurants FROM location_info GROUP BY city ORDER BY NumberOfRestaurants DESC LIMIT 5;"
   ]
  },
  {
   "cell_type": "code",
   "execution_count": 4,
   "metadata": {},
   "outputs": [
    {
     "name": "stdout",
     "output_type": "stream",
     "text": [
      " * sqlite:///./db/fast_food_restaurants.db\n",
      "Done.\n"
     ]
    },
    {
     "data": {
      "text/html": [
       "<table>\n",
       "    <thead>\n",
       "        <tr>\n",
       "            <th>categories</th>\n",
       "            <th>name</th>\n",
       "        </tr>\n",
       "    </thead>\n",
       "    <tbody>\n",
       "        <tr>\n",
       "            <td>American Restaurant and Fast Food Restaurant</td>\n",
       "            <td>SONIC Drive In</td>\n",
       "        </tr>\n",
       "        <tr>\n",
       "            <td>Fast Food Restaurants</td>\n",
       "            <td>SONIC Drive In</td>\n",
       "        </tr>\n",
       "        <tr>\n",
       "            <td>Fast Food Restaurant</td>\n",
       "            <td>Taco Bell</td>\n",
       "        </tr>\n",
       "        <tr>\n",
       "            <td>Fast Food</td>\n",
       "            <td>Arby&#x27;s</td>\n",
       "        </tr>\n",
       "        <tr>\n",
       "            <td>Fast Food Restaurant</td>\n",
       "            <td>Steak &#x27;n Shake</td>\n",
       "        </tr>\n",
       "    </tbody>\n",
       "</table>"
      ],
      "text/plain": [
       "[('American Restaurant and Fast Food Restaurant', 'SONIC Drive In'),\n",
       " ('Fast Food Restaurants', 'SONIC Drive In'),\n",
       " ('Fast Food Restaurant', 'Taco Bell'),\n",
       " ('Fast Food', \"Arby's\"),\n",
       " ('Fast Food Restaurant', \"Steak 'n Shake\")]"
      ]
     },
     "execution_count": 4,
     "metadata": {},
     "output_type": "execute_result"
    }
   ],
   "source": [
    "# SELECT Statement\n",
    "%sql SELECT categories,name FROM restaurant_info LIMIT 5;"
   ]
  },
  {
   "cell_type": "code",
   "execution_count": 5,
   "metadata": {},
   "outputs": [
    {
     "name": "stdout",
     "output_type": "stream",
     "text": [
      " * sqlite:///./db/fast_food_restaurants.db\n",
      "Done.\n"
     ]
    },
    {
     "data": {
      "text/html": [
       "<table>\n",
       "    <thead>\n",
       "        <tr>\n",
       "            <th>id</th>\n",
       "            <th>name</th>\n",
       "            <th>categories</th>\n",
       "        </tr>\n",
       "    </thead>\n",
       "    <tbody>\n",
       "        <tr>\n",
       "            <td>AVwcmSyZIN2L1WUfmxyw</td>\n",
       "            <td>SONIC Drive In</td>\n",
       "            <td>American Restaurant and Fast Food Restaurant</td>\n",
       "        </tr>\n",
       "    </tbody>\n",
       "</table>"
      ],
      "text/plain": [
       "[('AVwcmSyZIN2L1WUfmxyw', 'SONIC Drive In', 'American Restaurant and Fast Food Restaurant')]"
      ]
     },
     "execution_count": 5,
     "metadata": {},
     "output_type": "execute_result"
    }
   ],
   "source": [
    "# Limiting Results\n",
    "%sql SELECT * FROM restaurant_info LIMIT 1;"
   ]
  },
  {
   "cell_type": "code",
   "execution_count": 6,
   "metadata": {},
   "outputs": [
    {
     "name": "stdout",
     "output_type": "stream",
     "text": [
      " * sqlite:///./db/fast_food_restaurants.db\n",
      "Done.\n"
     ]
    },
    {
     "data": {
      "text/html": [
       "<table>\n",
       "    <thead>\n",
       "        <tr>\n",
       "            <th>id</th>\n",
       "            <th>address</th>\n",
       "            <th>city</th>\n",
       "            <th>country</th>\n",
       "            <th>latitude</th>\n",
       "            <th>longitude</th>\n",
       "            <th>postalCode</th>\n",
       "            <th>province</th>\n",
       "        </tr>\n",
       "    </thead>\n",
       "    <tbody>\n",
       "        <tr>\n",
       "            <td>AVwdVafPByjofQCxoA6y</td>\n",
       "            <td>4111 Oceanside Blvd</td>\n",
       "            <td>Oceanside</td>\n",
       "            <td>US</td>\n",
       "            <td>33.205722</td>\n",
       "            <td>-117.288645</td>\n",
       "            <td>92056</td>\n",
       "            <td>CA</td>\n",
       "        </tr>\n",
       "        <tr>\n",
       "            <td>AVwdnJWakufWRAb57mV7</td>\n",
       "            <td>1190 W Foothill Blvd</td>\n",
       "            <td>Azusa</td>\n",
       "            <td>US</td>\n",
       "            <td>34.133291</td>\n",
       "            <td>-117.924566</td>\n",
       "            <td>91702</td>\n",
       "            <td>CA</td>\n",
       "        </tr>\n",
       "        <tr>\n",
       "            <td>AVyoBhJfl8hL2jjQySvt</td>\n",
       "            <td>6316 W 89th St</td>\n",
       "            <td>Los Angeles</td>\n",
       "            <td>US</td>\n",
       "            <td>33.955923</td>\n",
       "            <td>-118.396443</td>\n",
       "            <td>90045</td>\n",
       "            <td>CA</td>\n",
       "        </tr>\n",
       "        <tr>\n",
       "            <td>AVwePo1-_7pvs4fzBS_K</td>\n",
       "            <td>2992 Jamacha Rd</td>\n",
       "            <td>El Cajon</td>\n",
       "            <td>US</td>\n",
       "            <td>32.739923</td>\n",
       "            <td>-116.942156</td>\n",
       "            <td>92019</td>\n",
       "            <td>CA</td>\n",
       "        </tr>\n",
       "        <tr>\n",
       "            <td>AVzX86OvLD2H7whiWxXf</td>\n",
       "            <td>706 Fletcher Pkwy</td>\n",
       "            <td>El Cajon</td>\n",
       "            <td>US</td>\n",
       "            <td>32.80827</td>\n",
       "            <td>-116.97137</td>\n",
       "            <td>92020</td>\n",
       "            <td>CA</td>\n",
       "        </tr>\n",
       "    </tbody>\n",
       "</table>"
      ],
      "text/plain": [
       "[('AVwdVafPByjofQCxoA6y', '4111 Oceanside Blvd', 'Oceanside', 'US', 33.205722, -117.288645, '92056', 'CA'),\n",
       " ('AVwdnJWakufWRAb57mV7', '1190 W Foothill Blvd', 'Azusa', 'US', 34.133291, -117.924566, '91702', 'CA'),\n",
       " ('AVyoBhJfl8hL2jjQySvt', '6316 W 89th St', 'Los Angeles', 'US', 33.955923, -118.396443, '90045', 'CA'),\n",
       " ('AVwePo1-_7pvs4fzBS_K', '2992 Jamacha Rd', 'El Cajon', 'US', 32.739923, -116.942156, '92019', 'CA'),\n",
       " ('AVzX86OvLD2H7whiWxXf', '706 Fletcher Pkwy', 'El Cajon', 'US', 32.80827, -116.97137, '92020', 'CA')]"
      ]
     },
     "execution_count": 6,
     "metadata": {},
     "output_type": "execute_result"
    }
   ],
   "source": [
    "# WHERE statement to filter results\n",
    "%sql SELECT * FROM location_info WHERE province = 'CA' LIMIT 5;"
   ]
  },
  {
   "cell_type": "code",
   "execution_count": 7,
   "metadata": {},
   "outputs": [
    {
     "name": "stdout",
     "output_type": "stream",
     "text": [
      " * sqlite:///./db/fast_food_restaurants.db\n",
      "Done.\n"
     ]
    },
    {
     "data": {
      "text/html": [
       "<table>\n",
       "    <thead>\n",
       "        <tr>\n",
       "            <th>id</th>\n",
       "            <th>address</th>\n",
       "            <th>city</th>\n",
       "            <th>country</th>\n",
       "            <th>latitude</th>\n",
       "            <th>longitude</th>\n",
       "            <th>postalCode</th>\n",
       "            <th>province</th>\n",
       "        </tr>\n",
       "    </thead>\n",
       "    <tbody>\n",
       "        <tr>\n",
       "            <td>AVzj5doALD2H7whiXVHC</td>\n",
       "            <td>404 W 12th St</td>\n",
       "            <td>Alturas</td>\n",
       "            <td>US</td>\n",
       "            <td>41.49456</td>\n",
       "            <td>-120.54684</td>\n",
       "            <td>96101</td>\n",
       "            <td>CA</td>\n",
       "        </tr>\n",
       "        <tr>\n",
       "            <td>AVwc_0kg_7pvs4fz1LmH</td>\n",
       "            <td>1925 Shastina Dr</td>\n",
       "            <td>Weed</td>\n",
       "            <td>US</td>\n",
       "            <td>41.397659</td>\n",
       "            <td>-122.378968</td>\n",
       "            <td>96094</td>\n",
       "            <td>CA</td>\n",
       "        </tr>\n",
       "        <tr>\n",
       "            <td>AVwdNIJ6_7pvs4fz3YZa</td>\n",
       "            <td>215 Antelope Blvd</td>\n",
       "            <td>Red Bluff</td>\n",
       "            <td>US</td>\n",
       "            <td>40.176826</td>\n",
       "            <td>-122.233802</td>\n",
       "            <td>96080</td>\n",
       "            <td>CA</td>\n",
       "        </tr>\n",
       "        <tr>\n",
       "            <td>AVwdNJzEIN2L1WUftU2O</td>\n",
       "            <td>228 Main St</td>\n",
       "            <td>Red Bluff</td>\n",
       "            <td>US</td>\n",
       "            <td>40.173433</td>\n",
       "            <td>-122.231365</td>\n",
       "            <td>96080</td>\n",
       "            <td>CA</td>\n",
       "        </tr>\n",
       "        <tr>\n",
       "            <td>AVwdqd5lIN2L1WUfyDF2</td>\n",
       "            <td>1700 Churn Creek Rd</td>\n",
       "            <td>Redding</td>\n",
       "            <td>US</td>\n",
       "            <td>40.582248</td>\n",
       "            <td>-122.354262</td>\n",
       "            <td>96002</td>\n",
       "            <td>CA</td>\n",
       "        </tr>\n",
       "    </tbody>\n",
       "</table>"
      ],
      "text/plain": [
       "[('AVzj5doALD2H7whiXVHC', '404 W 12th St', 'Alturas', 'US', 41.49456, -120.54684, '96101', 'CA'),\n",
       " ('AVwc_0kg_7pvs4fz1LmH', '1925 Shastina Dr', 'Weed', 'US', 41.397659, -122.378968, '96094', 'CA'),\n",
       " ('AVwdNIJ6_7pvs4fz3YZa', '215 Antelope Blvd', 'Red Bluff', 'US', 40.176826, -122.233802, '96080', 'CA'),\n",
       " ('AVwdNJzEIN2L1WUftU2O', '228 Main St', 'Red Bluff', 'US', 40.173433, -122.231365, '96080', 'CA'),\n",
       " ('AVwdqd5lIN2L1WUfyDF2', '1700 Churn Creek Rd', 'Redding', 'US', 40.582248, -122.354262, '96002', 'CA')]"
      ]
     },
     "execution_count": 7,
     "metadata": {},
     "output_type": "execute_result"
    }
   ],
   "source": [
    "# ORDER BY to sort results\n",
    "%sql SELECT * FROM location_info WHERE province = 'CA' ORDER BY postalCode DESC LIMIT 5;"
   ]
  },
  {
   "cell_type": "code",
   "execution_count": 8,
   "metadata": {},
   "outputs": [
    {
     "name": "stdout",
     "output_type": "stream",
     "text": [
      " * sqlite:///./db/fast_food_restaurants.db\n",
      "Done.\n"
     ]
    },
    {
     "data": {
      "text/html": [
       "<table>\n",
       "    <thead>\n",
       "        <tr>\n",
       "            <th>name</th>\n",
       "        </tr>\n",
       "    </thead>\n",
       "    <tbody>\n",
       "        <tr>\n",
       "            <td>restaurants</td>\n",
       "        </tr>\n",
       "        <tr>\n",
       "            <td>location_info</td>\n",
       "        </tr>\n",
       "        <tr>\n",
       "            <td>restaurant_info</td>\n",
       "        </tr>\n",
       "        <tr>\n",
       "            <td>online_info</td>\n",
       "        </tr>\n",
       "    </tbody>\n",
       "</table>"
      ],
      "text/plain": [
       "[('restaurants',), ('location_info',), ('restaurant_info',), ('online_info',)]"
      ]
     },
     "execution_count": 8,
     "metadata": {},
     "output_type": "execute_result"
    }
   ],
   "source": [
    "# Get all tables from a DB\n",
    "%sql SELECT name FROM sqlite_master WHERE type='table';"
   ]
  },
  {
   "cell_type": "code",
   "execution_count": 24,
   "metadata": {},
   "outputs": [
    {
     "name": "stdout",
     "output_type": "stream",
     "text": [
      " * sqlite:///./db/fast_food_restaurants.db\n",
      "Done.\n"
     ]
    },
    {
     "data": {
      "text/html": [
       "<table>\n",
       "    <thead>\n",
       "        <tr>\n",
       "            <th>cid</th>\n",
       "            <th>name</th>\n",
       "            <th>type</th>\n",
       "            <th>notnull</th>\n",
       "            <th>dflt_value</th>\n",
       "            <th>pk</th>\n",
       "        </tr>\n",
       "    </thead>\n",
       "    <tbody>\n",
       "        <tr>\n",
       "            <td>0</td>\n",
       "            <td>id</td>\n",
       "            <td>TEXT</td>\n",
       "            <td>0</td>\n",
       "            <td>None</td>\n",
       "            <td>0</td>\n",
       "        </tr>\n",
       "        <tr>\n",
       "            <td>1</td>\n",
       "            <td>name</td>\n",
       "            <td>TEXT</td>\n",
       "            <td>0</td>\n",
       "            <td>None</td>\n",
       "            <td>0</td>\n",
       "        </tr>\n",
       "        <tr>\n",
       "            <td>2</td>\n",
       "            <td>categories</td>\n",
       "            <td>TEXT</td>\n",
       "            <td>0</td>\n",
       "            <td>None</td>\n",
       "            <td>0</td>\n",
       "        </tr>\n",
       "    </tbody>\n",
       "</table>"
      ],
      "text/plain": [
       "[(0, 'id', 'TEXT', 0, None, 0),\n",
       " (1, 'name', 'TEXT', 0, None, 0),\n",
       " (2, 'categories', 'TEXT', 0, None, 0)]"
      ]
     },
     "execution_count": 24,
     "metadata": {},
     "output_type": "execute_result"
    }
   ],
   "source": [
    "# Get table info\n",
    "%sql PRAGMA table_info('restaurant_info');"
   ]
  },
  {
   "cell_type": "code",
   "execution_count": 10,
   "metadata": {},
   "outputs": [
    {
     "name": "stdout",
     "output_type": "stream",
     "text": [
      " * sqlite:///./db/fast_food_restaurants.db\n",
      "Done.\n"
     ]
    },
    {
     "data": {
      "text/html": [
       "<table>\n",
       "    <thead>\n",
       "        <tr>\n",
       "            <th>id</th>\n",
       "            <th>address</th>\n",
       "            <th>city</th>\n",
       "            <th>country</th>\n",
       "            <th>latitude</th>\n",
       "            <th>longitude</th>\n",
       "            <th>postalCode</th>\n",
       "            <th>province</th>\n",
       "        </tr>\n",
       "    </thead>\n",
       "    <tbody>\n",
       "        <tr>\n",
       "            <td>AVwcmSyZIN2L1WUfmxyw</td>\n",
       "            <td>800 N Canal Blvd</td>\n",
       "            <td>Thibodaux</td>\n",
       "            <td>US</td>\n",
       "            <td>29.814697</td>\n",
       "            <td>-90.814742</td>\n",
       "            <td>70301</td>\n",
       "            <td>LA</td>\n",
       "        </tr>\n",
       "    </tbody>\n",
       "</table>"
      ],
      "text/plain": [
       "[('AVwcmSyZIN2L1WUfmxyw', '800 N Canal Blvd', 'Thibodaux', 'US', 29.814697, -90.814742, '70301', 'LA')]"
      ]
     },
     "execution_count": 10,
     "metadata": {},
     "output_type": "execute_result"
    }
   ],
   "source": [
    "%%sql SELECT *\n",
    "FROM location_info\n",
    "LIMIT 1;"
   ]
  },
  {
   "cell_type": "code",
   "execution_count": 11,
   "metadata": {},
   "outputs": [
    {
     "name": "stdout",
     "output_type": "stream",
     "text": [
      " * sqlite:///./db/fast_food_restaurants.db\n",
      "Done.\n"
     ]
    },
    {
     "data": {
      "text/html": [
       "<table>\n",
       "    <thead>\n",
       "        <tr>\n",
       "            <th>Address</th>\n",
       "            <th>Postal Code</th>\n",
       "        </tr>\n",
       "    </thead>\n",
       "    <tbody>\n",
       "        <tr>\n",
       "            <td>800 N Canal Blvd</td>\n",
       "            <td>70301</td>\n",
       "        </tr>\n",
       "        <tr>\n",
       "            <td>800 N Canal Blvd</td>\n",
       "            <td>70301</td>\n",
       "        </tr>\n",
       "        <tr>\n",
       "            <td>206 Wears Valley Rd</td>\n",
       "            <td>37863</td>\n",
       "        </tr>\n",
       "        <tr>\n",
       "            <td>3652 Parkway</td>\n",
       "            <td>37863</td>\n",
       "        </tr>\n",
       "        <tr>\n",
       "            <td>2118 Mt Zion Parkway</td>\n",
       "            <td>30260</td>\n",
       "        </tr>\n",
       "        <tr>\n",
       "            <td>9768 Grand River Ave</td>\n",
       "            <td>48204</td>\n",
       "        </tr>\n",
       "        <tr>\n",
       "            <td>13600 W McNichols Rd</td>\n",
       "            <td>48235</td>\n",
       "        </tr>\n",
       "        <tr>\n",
       "            <td>4111 Oceanside Blvd</td>\n",
       "            <td>92056</td>\n",
       "        </tr>\n",
       "        <tr>\n",
       "            <td>162 Old Country Rd</td>\n",
       "            <td>11901</td>\n",
       "        </tr>\n",
       "        <tr>\n",
       "            <td>1407 S Stockton Ave</td>\n",
       "            <td>79756</td>\n",
       "        </tr>\n",
       "    </tbody>\n",
       "</table>"
      ],
      "text/plain": [
       "[('800 N Canal Blvd', '70301'),\n",
       " ('800 N Canal Blvd', '70301'),\n",
       " ('206 Wears Valley Rd', '37863'),\n",
       " ('3652 Parkway', '37863'),\n",
       " ('2118 Mt Zion Parkway', '30260'),\n",
       " ('9768 Grand River Ave', '48204'),\n",
       " ('13600 W McNichols Rd', '48235'),\n",
       " ('4111 Oceanside Blvd', '92056'),\n",
       " ('162 Old Country Rd', '11901'),\n",
       " ('1407 S Stockton Ave', '79756')]"
      ]
     },
     "execution_count": 11,
     "metadata": {},
     "output_type": "execute_result"
    }
   ],
   "source": [
    "%%sql SELECT address AS Address, postalCode AS 'Postal Code'\n",
    "FROM location_info\n",
    "LIMIT 10;"
   ]
  },
  {
   "cell_type": "code",
   "execution_count": 12,
   "metadata": {},
   "outputs": [
    {
     "name": "stdout",
     "output_type": "stream",
     "text": [
      " * sqlite:///./db/fast_food_restaurants.db\n",
      "Done.\n"
     ]
    },
    {
     "data": {
      "text/html": [
       "<table>\n",
       "    <thead>\n",
       "        <tr>\n",
       "            <th>name</th>\n",
       "            <th>city</th>\n",
       "            <th>province</th>\n",
       "        </tr>\n",
       "    </thead>\n",
       "    <tbody>\n",
       "        <tr>\n",
       "            <td>Dairy Queen</td>\n",
       "            <td>Monahans</td>\n",
       "            <td>TX</td>\n",
       "        </tr>\n",
       "        <tr>\n",
       "            <td>Dairy Queen</td>\n",
       "            <td>Mabank</td>\n",
       "            <td>TX</td>\n",
       "        </tr>\n",
       "        <tr>\n",
       "            <td>Dairy Queen</td>\n",
       "            <td>Missouri City</td>\n",
       "            <td>TX</td>\n",
       "        </tr>\n",
       "        <tr>\n",
       "            <td>Golden Chick</td>\n",
       "            <td>Eastland</td>\n",
       "            <td>TX</td>\n",
       "        </tr>\n",
       "        <tr>\n",
       "            <td>Taco Bell</td>\n",
       "            <td>Wylie</td>\n",
       "            <td>TX</td>\n",
       "        </tr>\n",
       "        <tr>\n",
       "            <td>Taco Bell</td>\n",
       "            <td>Tyler</td>\n",
       "            <td>TX</td>\n",
       "        </tr>\n",
       "        <tr>\n",
       "            <td>Boston Market</td>\n",
       "            <td>Arlington</td>\n",
       "            <td>TX</td>\n",
       "        </tr>\n",
       "        <tr>\n",
       "            <td>Burger King</td>\n",
       "            <td>Cypress</td>\n",
       "            <td>TX</td>\n",
       "        </tr>\n",
       "        <tr>\n",
       "            <td>Burger King</td>\n",
       "            <td>Cypress</td>\n",
       "            <td>TX</td>\n",
       "        </tr>\n",
       "        <tr>\n",
       "            <td>Pizza Hut</td>\n",
       "            <td>Chandler</td>\n",
       "            <td>AZ</td>\n",
       "        </tr>\n",
       "    </tbody>\n",
       "</table>"
      ],
      "text/plain": [
       "[('Dairy Queen', 'Monahans', 'TX'),\n",
       " ('Dairy Queen', 'Mabank', 'TX'),\n",
       " ('Dairy Queen', 'Missouri City', 'TX'),\n",
       " ('Golden Chick', 'Eastland', 'TX'),\n",
       " ('Taco Bell', 'Wylie', 'TX'),\n",
       " ('Taco Bell', 'Tyler', 'TX'),\n",
       " ('Boston Market', 'Arlington', 'TX'),\n",
       " ('Burger King', 'Cypress', 'TX'),\n",
       " ('Burger King', 'Cypress', 'TX'),\n",
       " ('Pizza Hut', 'Chandler', 'AZ')]"
      ]
     },
     "execution_count": 12,
     "metadata": {},
     "output_type": "execute_result"
    }
   ],
   "source": [
    "%%sql\n",
    "SELECT name, city, province\n",
    "FROM restaurants\n",
    "WHERE (province = 'AZ' OR province = 'TX') AND NOT city = 'El Paso'\n",
    "LIMIT 10;"
   ]
  },
  {
   "cell_type": "code",
   "execution_count": 13,
   "metadata": {},
   "outputs": [
    {
     "name": "stdout",
     "output_type": "stream",
     "text": [
      " * sqlite:///./db/fast_food_restaurants.db\n",
      "Done.\n"
     ]
    },
    {
     "data": {
      "text/html": [
       "<table>\n",
       "    <thead>\n",
       "        <tr>\n",
       "            <th>id</th>\n",
       "            <th>address</th>\n",
       "            <th>city</th>\n",
       "            <th>country</th>\n",
       "            <th>latitude</th>\n",
       "            <th>longitude</th>\n",
       "            <th>postalCode</th>\n",
       "            <th>province</th>\n",
       "        </tr>\n",
       "    </thead>\n",
       "    <tbody>\n",
       "        <tr>\n",
       "            <td>unique_id123</td>\n",
       "            <td>123 Example St</td>\n",
       "            <td>Example City</td>\n",
       "            <td>US</td>\n",
       "            <td>None</td>\n",
       "            <td>None</td>\n",
       "            <td>12345</td>\n",
       "            <td>None</td>\n",
       "        </tr>\n",
       "    </tbody>\n",
       "</table>"
      ],
      "text/plain": [
       "[('unique_id123', '123 Example St', 'Example City', 'US', None, None, '12345', None)]"
      ]
     },
     "execution_count": 13,
     "metadata": {},
     "output_type": "execute_result"
    }
   ],
   "source": [
    "%%sql\n",
    "SELECT * FROM location_info\n",
    "WHERE latitude is NULL\n",
    "LIMIT 5;"
   ]
  },
  {
   "cell_type": "code",
   "execution_count": 14,
   "metadata": {},
   "outputs": [
    {
     "name": "stdout",
     "output_type": "stream",
     "text": [
      " * sqlite:///./db/fast_food_restaurants.db\n",
      "1 rows affected.\n"
     ]
    },
    {
     "data": {
      "text/plain": [
       "[]"
      ]
     },
     "execution_count": 14,
     "metadata": {},
     "output_type": "execute_result"
    }
   ],
   "source": [
    "%%sql\n",
    "INSERT INTO location_info (id, address, city, country, latitude, longitude, postalCode, province) \n",
    "VALUES ('unique_id123', '123 Example St', 'Example City', 'US', NULL, NULL, '12345', NULL);"
   ]
  },
  {
   "cell_type": "code",
   "execution_count": 15,
   "metadata": {},
   "outputs": [
    {
     "name": "stdout",
     "output_type": "stream",
     "text": [
      " * sqlite:///./db/fast_food_restaurants.db\n",
      "Done.\n"
     ]
    },
    {
     "data": {
      "text/html": [
       "<table>\n",
       "    <thead>\n",
       "        <tr>\n",
       "            <th>name</th>\n",
       "        </tr>\n",
       "    </thead>\n",
       "    <tbody>\n",
       "        <tr>\n",
       "            <td>Golden Chick</td>\n",
       "        </tr>\n",
       "        <tr>\n",
       "            <td>Chick-Fil-A</td>\n",
       "        </tr>\n",
       "        <tr>\n",
       "            <td>Chicken Express</td>\n",
       "        </tr>\n",
       "        <tr>\n",
       "            <td>Krispy Krunchy Chicken</td>\n",
       "        </tr>\n",
       "        <tr>\n",
       "            <td>Chicken Inn</td>\n",
       "        </tr>\n",
       "        <tr>\n",
       "            <td>KFC - Kentucky Fried Chicken</td>\n",
       "        </tr>\n",
       "        <tr>\n",
       "            <td>Chick-fil-A</td>\n",
       "        </tr>\n",
       "        <tr>\n",
       "            <td>Church&#x27;s Chicken</td>\n",
       "        </tr>\n",
       "        <tr>\n",
       "            <td>Mr. Chicken</td>\n",
       "        </tr>\n",
       "        <tr>\n",
       "            <td>Bojangles&#x27; Famous Chicken &#x27;n Biscuits</td>\n",
       "        </tr>\n",
       "    </tbody>\n",
       "</table>"
      ],
      "text/plain": [
       "[('Golden Chick',),\n",
       " ('Chick-Fil-A',),\n",
       " ('Chicken Express',),\n",
       " ('Krispy Krunchy Chicken',),\n",
       " ('Chicken Inn',),\n",
       " ('KFC - Kentucky Fried Chicken',),\n",
       " ('Chick-fil-A',),\n",
       " (\"Church's Chicken\",),\n",
       " ('Mr. Chicken',),\n",
       " (\"Bojangles' Famous Chicken 'n Biscuits\",)]"
      ]
     },
     "execution_count": 15,
     "metadata": {},
     "output_type": "execute_result"
    }
   ],
   "source": [
    "%%sql\n",
    "SELECT DISTINCT name FROM restaurants\n",
    "WHERE name LIKE '%Chick%'\n",
    "LIMIT 10;"
   ]
  },
  {
   "cell_type": "code",
   "execution_count": 16,
   "metadata": {},
   "outputs": [
    {
     "name": "stdout",
     "output_type": "stream",
     "text": [
      " * sqlite:///./db/fast_food_restaurants.db\n",
      "Done.\n"
     ]
    },
    {
     "data": {
      "text/html": [
       "<table>\n",
       "    <thead>\n",
       "        <tr>\n",
       "            <th>id</th>\n",
       "            <th>address</th>\n",
       "            <th>city</th>\n",
       "            <th>country</th>\n",
       "            <th>latitude</th>\n",
       "            <th>longitude</th>\n",
       "            <th>postalCode</th>\n",
       "            <th>province</th>\n",
       "        </tr>\n",
       "    </thead>\n",
       "    <tbody>\n",
       "        <tr>\n",
       "            <td>AVyoBhJfl8hL2jjQySvt</td>\n",
       "            <td>6316 W 89th St</td>\n",
       "            <td>Los Angeles</td>\n",
       "            <td>US</td>\n",
       "            <td>33.955923</td>\n",
       "            <td>-118.396443</td>\n",
       "            <td>90045</td>\n",
       "            <td>CA</td>\n",
       "        </tr>\n",
       "        <tr>\n",
       "            <td>AVzA1QA5-gnIPe8DScbz</td>\n",
       "            <td>1188 Avenue of The Americas</td>\n",
       "            <td>New York</td>\n",
       "            <td>US</td>\n",
       "            <td>40.757558</td>\n",
       "            <td>-73.981671</td>\n",
       "            <td>10036</td>\n",
       "            <td>NY</td>\n",
       "        </tr>\n",
       "        <tr>\n",
       "            <td>AVzA2BSFFcQ3k02bBX5D</td>\n",
       "            <td>114 Delancey St</td>\n",
       "            <td>New York</td>\n",
       "            <td>US</td>\n",
       "            <td>40.718943</td>\n",
       "            <td>-73.988306</td>\n",
       "            <td>10002</td>\n",
       "            <td>NY</td>\n",
       "        </tr>\n",
       "        <tr>\n",
       "            <td>AVwclXRy_7pvs4fzwt99</td>\n",
       "            <td>5636 W Irving Park Rd</td>\n",
       "            <td>Chicago</td>\n",
       "            <td>US</td>\n",
       "            <td>41.953301</td>\n",
       "            <td>-87.767849</td>\n",
       "            <td>60634</td>\n",
       "            <td>IL</td>\n",
       "        </tr>\n",
       "        <tr>\n",
       "            <td>AVwdMJReByjofQCxmctI</td>\n",
       "            <td>4967 Eagle Rock Blvd</td>\n",
       "            <td>Los Angeles</td>\n",
       "            <td>US</td>\n",
       "            <td>34.136803</td>\n",
       "            <td>-118.215193</td>\n",
       "            <td>90041</td>\n",
       "            <td>CA</td>\n",
       "        </tr>\n",
       "        <tr>\n",
       "            <td>AVwcy6wV_7pvs4fzzDLz</td>\n",
       "            <td>3476 Whittier Blvd</td>\n",
       "            <td>Los Angeles</td>\n",
       "            <td>US</td>\n",
       "            <td>34.02649</td>\n",
       "            <td>-118.19894</td>\n",
       "            <td>90023</td>\n",
       "            <td>CA</td>\n",
       "        </tr>\n",
       "        <tr>\n",
       "            <td>AVwcmw-a_7pvs4fzw-HT</td>\n",
       "            <td>7536 N Milwaukee Ave</td>\n",
       "            <td>Chicago</td>\n",
       "            <td>US</td>\n",
       "            <td>42.01803</td>\n",
       "            <td>-87.80717</td>\n",
       "            <td>60631</td>\n",
       "            <td>IL</td>\n",
       "        </tr>\n",
       "        <tr>\n",
       "            <td>AVwcjXrsIN2L1WUfmO2t</td>\n",
       "            <td>1900 W Slauson Ave</td>\n",
       "            <td>Los Angeles</td>\n",
       "            <td>US</td>\n",
       "            <td>33.989111</td>\n",
       "            <td>-118.31236</td>\n",
       "            <td>90047</td>\n",
       "            <td>CA</td>\n",
       "        </tr>\n",
       "        <tr>\n",
       "            <td>AVwco2WTByjofQCxgh-K</td>\n",
       "            <td>1800 S Western Ave</td>\n",
       "            <td>Los Angeles</td>\n",
       "            <td>US</td>\n",
       "            <td>34.041633</td>\n",
       "            <td>-118.308538</td>\n",
       "            <td>90006</td>\n",
       "            <td>CA</td>\n",
       "        </tr>\n",
       "        <tr>\n",
       "            <td>AVwdY4j2ByjofQCxomRW</td>\n",
       "            <td>2810 N Clark St</td>\n",
       "            <td>Chicago</td>\n",
       "            <td>US</td>\n",
       "            <td>41.933161</td>\n",
       "            <td>-87.645352</td>\n",
       "            <td>60657</td>\n",
       "            <td>IL</td>\n",
       "        </tr>\n",
       "    </tbody>\n",
       "</table>"
      ],
      "text/plain": [
       "[('AVyoBhJfl8hL2jjQySvt', '6316 W 89th St', 'Los Angeles', 'US', 33.955923, -118.396443, '90045', 'CA'),\n",
       " ('AVzA1QA5-gnIPe8DScbz', '1188 Avenue of The Americas', 'New York', 'US', 40.757558, -73.981671, '10036', 'NY'),\n",
       " ('AVzA2BSFFcQ3k02bBX5D', '114 Delancey St', 'New York', 'US', 40.718943, -73.988306, '10002', 'NY'),\n",
       " ('AVwclXRy_7pvs4fzwt99', '5636 W Irving Park Rd', 'Chicago', 'US', 41.953301, -87.767849, '60634', 'IL'),\n",
       " ('AVwdMJReByjofQCxmctI', '4967 Eagle Rock Blvd', 'Los Angeles', 'US', 34.136803, -118.215193, '90041', 'CA'),\n",
       " ('AVwcy6wV_7pvs4fzzDLz', '3476 Whittier Blvd', 'Los Angeles', 'US', 34.02649, -118.19894, '90023', 'CA'),\n",
       " ('AVwcmw-a_7pvs4fzw-HT', '7536 N Milwaukee Ave', 'Chicago', 'US', 42.01803, -87.80717, '60631', 'IL'),\n",
       " ('AVwcjXrsIN2L1WUfmO2t', '1900 W Slauson Ave', 'Los Angeles', 'US', 33.989111, -118.31236, '90047', 'CA'),\n",
       " ('AVwco2WTByjofQCxgh-K', '1800 S Western Ave', 'Los Angeles', 'US', 34.041633, -118.308538, '90006', 'CA'),\n",
       " ('AVwdY4j2ByjofQCxomRW', '2810 N Clark St', 'Chicago', 'US', 41.933161, -87.645352, '60657', 'IL')]"
      ]
     },
     "execution_count": 16,
     "metadata": {},
     "output_type": "execute_result"
    }
   ],
   "source": [
    "%%sql\n",
    "SELECT *\n",
    "FROM location_info\n",
    "WHERE city IN ('New York', 'Los Angeles', 'Chicago')\n",
    "LIMIT 10;"
   ]
  },
  {
   "cell_type": "code",
   "execution_count": 17,
   "metadata": {},
   "outputs": [
    {
     "name": "stdout",
     "output_type": "stream",
     "text": [
      " * sqlite:///./db/fast_food_restaurants.db\n",
      "Done.\n"
     ]
    },
    {
     "data": {
      "text/html": [
       "<table>\n",
       "    <thead>\n",
       "        <tr>\n",
       "            <th>Restaurant Name</th>\n",
       "            <th>Categories</th>\n",
       "            <th>CategoryType</th>\n",
       "        </tr>\n",
       "    </thead>\n",
       "    <tbody>\n",
       "        <tr>\n",
       "            <td>SONIC Drive In</td>\n",
       "            <td>American Restaurant and Fast Food Restaurant</td>\n",
       "            <td>Fast Food</td>\n",
       "        </tr>\n",
       "        <tr>\n",
       "            <td>SONIC Drive In</td>\n",
       "            <td>Fast Food Restaurants</td>\n",
       "            <td>Fast Food</td>\n",
       "        </tr>\n",
       "        <tr>\n",
       "            <td>Taco Bell</td>\n",
       "            <td>Fast Food Restaurant</td>\n",
       "            <td>Fast Food</td>\n",
       "        </tr>\n",
       "        <tr>\n",
       "            <td>Arby&#x27;s</td>\n",
       "            <td>Fast Food</td>\n",
       "            <td>Fast Food</td>\n",
       "        </tr>\n",
       "        <tr>\n",
       "            <td>Steak &#x27;n Shake</td>\n",
       "            <td>Fast Food Restaurant</td>\n",
       "            <td>Fast Food</td>\n",
       "        </tr>\n",
       "        <tr>\n",
       "            <td>Wendy&#x27;s</td>\n",
       "            <td>Fast Food Restaurant</td>\n",
       "            <td>Fast Food</td>\n",
       "        </tr>\n",
       "        <tr>\n",
       "            <td>Burger King</td>\n",
       "            <td>Fast Food Restaurant</td>\n",
       "            <td>Fast Food</td>\n",
       "        </tr>\n",
       "        <tr>\n",
       "            <td>Chipotle Mexican Grill</td>\n",
       "            <td>Fast Food</td>\n",
       "            <td>Fast Food</td>\n",
       "        </tr>\n",
       "        <tr>\n",
       "            <td>7-Eleven</td>\n",
       "            <td>Fast Food Restaurants</td>\n",
       "            <td>Fast Food</td>\n",
       "        </tr>\n",
       "        <tr>\n",
       "            <td>Dairy Queen</td>\n",
       "            <td>Fast Food Restaurant</td>\n",
       "            <td>Fast Food</td>\n",
       "        </tr>\n",
       "    </tbody>\n",
       "</table>"
      ],
      "text/plain": [
       "[('SONIC Drive In', 'American Restaurant and Fast Food Restaurant', 'Fast Food'),\n",
       " ('SONIC Drive In', 'Fast Food Restaurants', 'Fast Food'),\n",
       " ('Taco Bell', 'Fast Food Restaurant', 'Fast Food'),\n",
       " (\"Arby's\", 'Fast Food', 'Fast Food'),\n",
       " (\"Steak 'n Shake\", 'Fast Food Restaurant', 'Fast Food'),\n",
       " (\"Wendy's\", 'Fast Food Restaurant', 'Fast Food'),\n",
       " ('Burger King', 'Fast Food Restaurant', 'Fast Food'),\n",
       " ('Chipotle Mexican Grill', 'Fast Food', 'Fast Food'),\n",
       " ('7-Eleven', 'Fast Food Restaurants', 'Fast Food'),\n",
       " ('Dairy Queen', 'Fast Food Restaurant', 'Fast Food')]"
      ]
     },
     "execution_count": 17,
     "metadata": {},
     "output_type": "execute_result"
    }
   ],
   "source": [
    "%%sql\n",
    "SELECT name AS [Restaurant Name], categories AS [Categories],\n",
    "CASE\n",
    "    WHEN categories LIKE '%Fast Food%' THEN 'Fast Food'\n",
    "    WHEN categories LIKE '%Casual%' THEN 'Casual Dining'\n",
    "    ELSE 'Other'\n",
    "END AS CategoryType\n",
    "FROM restaurant_info\n",
    "LIMIT 10;"
   ]
  },
  {
   "cell_type": "code",
   "execution_count": 18,
   "metadata": {},
   "outputs": [
    {
     "name": "stdout",
     "output_type": "stream",
     "text": [
      " * sqlite:///./db/fast_food_restaurants.db\n",
      "(sqlite3.OperationalError) near \"COUNT\": syntax error\n",
      "[SQL: SELECT\n",
      "CASE\n",
      "    WHEN categories LIKE '%Fast Food%' THEN 'Fast Food'\n",
      "    WHEN categories LIKE '%Casual%' THEN 'Casual Dining'\n",
      "    ELSE 'Other'\n",
      "END AS CategoryType\n",
      "COUNT(*) AS NumberOfRestaurants\n",
      "FROM restaurant_info;]\n",
      "(Background on this error at: https://sqlalche.me/e/20/e3q8)\n"
     ]
    }
   ],
   "source": [
    "%%sql\n",
    "SELECT\n",
    "CASE\n",
    "    WHEN categories LIKE '%Fast Food%' THEN 'Fast Food'\n",
    "    WHEN categories LIKE '%Casual%' THEN 'Casual Dining'\n",
    "    ELSE 'Other'\n",
    "END AS CategoryType\n",
    "COUNT(*) AS NumberOfRestaurants\n",
    "FROM restaurant_info;"
   ]
  },
  {
   "cell_type": "code",
   "execution_count": 19,
   "metadata": {},
   "outputs": [
    {
     "name": "stdout",
     "output_type": "stream",
     "text": [
      " * sqlite:///./db/fast_food_restaurants.db\n",
      "Done.\n"
     ]
    },
    {
     "data": {
      "text/html": [
       "<table>\n",
       "    <thead>\n",
       "        <tr>\n",
       "            <th>SUM(latitude)</th>\n",
       "        </tr>\n",
       "    </thead>\n",
       "    <tbody>\n",
       "        <tr>\n",
       "            <td>373374.0044279192</td>\n",
       "        </tr>\n",
       "    </tbody>\n",
       "</table>"
      ],
      "text/plain": [
       "[(373374.0044279192,)]"
      ]
     },
     "execution_count": 19,
     "metadata": {},
     "output_type": "execute_result"
    }
   ],
   "source": [
    "%%sql\n",
    "SELECT SUM(latitude)\n",
    "FROM location_info\n",
    "LIMIT 10;"
   ]
  },
  {
   "cell_type": "code",
   "execution_count": 20,
   "metadata": {},
   "outputs": [
    {
     "name": "stdout",
     "output_type": "stream",
     "text": [
      " * sqlite:///./db/fast_food_restaurants.db\n",
      "Done.\n"
     ]
    },
    {
     "data": {
      "text/html": [
       "<table>\n",
       "    <thead>\n",
       "        <tr>\n",
       "            <th>city</th>\n",
       "            <th>NumberOfRestaurants</th>\n",
       "        </tr>\n",
       "    </thead>\n",
       "    <tbody>\n",
       "        <tr>\n",
       "            <td>Aberdeen</td>\n",
       "            <td>6</td>\n",
       "        </tr>\n",
       "        <tr>\n",
       "            <td>Abilene</td>\n",
       "            <td>6</td>\n",
       "        </tr>\n",
       "        <tr>\n",
       "            <td>Akron</td>\n",
       "            <td>16</td>\n",
       "        </tr>\n",
       "        <tr>\n",
       "            <td>Albany</td>\n",
       "            <td>22</td>\n",
       "        </tr>\n",
       "        <tr>\n",
       "            <td>Albuquerque</td>\n",
       "            <td>33</td>\n",
       "        </tr>\n",
       "    </tbody>\n",
       "</table>"
      ],
      "text/plain": [
       "[('Aberdeen', 6),\n",
       " ('Abilene', 6),\n",
       " ('Akron', 16),\n",
       " ('Albany', 22),\n",
       " ('Albuquerque', 33)]"
      ]
     },
     "execution_count": 20,
     "metadata": {},
     "output_type": "execute_result"
    }
   ],
   "source": [
    "%%sql\n",
    "SELECT city, COUNT(*) AS NumberOfRestaurants\n",
    "FROM location_info\n",
    "GROUP BY city\n",
    "HAVING COUNT(*) > 5\n",
    "LIMIT 5;"
   ]
  },
  {
   "cell_type": "code",
   "execution_count": 21,
   "metadata": {},
   "outputs": [
    {
     "name": "stdout",
     "output_type": "stream",
     "text": [
      " * sqlite:///./db/fast_food_restaurants.db\n",
      "Done.\n"
     ]
    },
    {
     "data": {
      "text/html": [
       "<table>\n",
       "    <thead>\n",
       "        <tr>\n",
       "            <th>name</th>\n",
       "            <th>city</th>\n",
       "        </tr>\n",
       "    </thead>\n",
       "    <tbody>\n",
       "        <tr>\n",
       "            <td>SONIC Drive In</td>\n",
       "            <td>Thibodaux</td>\n",
       "        </tr>\n",
       "        <tr>\n",
       "            <td>SONIC Drive In</td>\n",
       "            <td>Thibodaux</td>\n",
       "        </tr>\n",
       "        <tr>\n",
       "            <td>SONIC Drive In</td>\n",
       "            <td>Thibodaux</td>\n",
       "        </tr>\n",
       "        <tr>\n",
       "            <td>SONIC Drive In</td>\n",
       "            <td>Thibodaux</td>\n",
       "        </tr>\n",
       "        <tr>\n",
       "            <td>Taco Bell</td>\n",
       "            <td>Pigeon Forge</td>\n",
       "        </tr>\n",
       "    </tbody>\n",
       "</table>"
      ],
      "text/plain": [
       "[('SONIC Drive In', 'Thibodaux'),\n",
       " ('SONIC Drive In', 'Thibodaux'),\n",
       " ('SONIC Drive In', 'Thibodaux'),\n",
       " ('SONIC Drive In', 'Thibodaux'),\n",
       " ('Taco Bell', 'Pigeon Forge')]"
      ]
     },
     "execution_count": 21,
     "metadata": {},
     "output_type": "execute_result"
    }
   ],
   "source": [
    "%%sql\n",
    "-- ALIAS\n",
    "\n",
    "SELECT ri.name, li.city\n",
    "FROM restaurant_info ri\n",
    "INNER JOIN location_info li ON ri.id = li.id\n",
    "LIMIT 5;"
   ]
  },
  {
   "cell_type": "code",
   "execution_count": 22,
   "metadata": {},
   "outputs": [
    {
     "name": "stdout",
     "output_type": "stream",
     "text": [
      " * sqlite:///./db/fast_food_restaurants.db\n",
      "Done.\n"
     ]
    },
    {
     "data": {
      "text/html": [
       "<table>\n",
       "    <thead>\n",
       "        <tr>\n",
       "            <th>name</th>\n",
       "            <th>websites</th>\n",
       "        </tr>\n",
       "    </thead>\n",
       "    <tbody>\n",
       "        <tr>\n",
       "            <td>SONIC Drive In</td>\n",
       "            <td>https://locations.sonicdrivein.com/la/thibodaux/800-north-canal-boulevard.html,http://sonicdrivein.com,http://www.sonicdrivein.com</td>\n",
       "        </tr>\n",
       "        <tr>\n",
       "            <td>SONIC Drive In</td>\n",
       "            <td>https://locations.sonicdrivein.com/la/thibodaux/800-north-canal-boulevard.html,http://sonicdrivein.com,http://www.sonicdrivein.com</td>\n",
       "        </tr>\n",
       "        <tr>\n",
       "            <td>SONIC Drive In</td>\n",
       "            <td>https://locations.sonicdrivein.com/la/thibodaux/800-north-canal-boulevard.html,http://sonicdrivein.com,http://www.sonicdrivein.com</td>\n",
       "        </tr>\n",
       "        <tr>\n",
       "            <td>SONIC Drive In</td>\n",
       "            <td>https://locations.sonicdrivein.com/la/thibodaux/800-north-canal-boulevard.html,http://sonicdrivein.com,http://www.sonicdrivein.com</td>\n",
       "        </tr>\n",
       "        <tr>\n",
       "            <td>Taco Bell</td>\n",
       "            <td>http://www.tacobell.com,https://locations.tacobell.com/tn/pigeon-forge/206-wears-valley-road.html?utm_source=yextandutm_campaign=yextpowerlistingsandutm_medium=referralandutm_term=026432andutm_content=website</td>\n",
       "        </tr>\n",
       "        <tr>\n",
       "            <td>Arby&#x27;s</td>\n",
       "            <td>http://www.arbys.com,https://locations.arbys.com/us/tn/pigeon-forge/3652-parkway.html</td>\n",
       "        </tr>\n",
       "        <tr>\n",
       "            <td>Steak &#x27;n Shake</td>\n",
       "            <td>http://www.steaknshake.com/locations/23851-steak-n-shake-mt-zion-parkway-morrow</td>\n",
       "        </tr>\n",
       "        <tr>\n",
       "            <td>Wendy&#x27;s</td>\n",
       "            <td>http://www.wendys.com</td>\n",
       "        </tr>\n",
       "        <tr>\n",
       "            <td>Burger King</td>\n",
       "            <td>http://bk.com,http://www.bk.com</td>\n",
       "        </tr>\n",
       "        <tr>\n",
       "            <td>Chipotle Mexican Grill</td>\n",
       "            <td>http://www.chipotle.com,http://www.lasalsa.com</td>\n",
       "        </tr>\n",
       "    </tbody>\n",
       "</table>"
      ],
      "text/plain": [
       "[('SONIC Drive In', 'https://locations.sonicdrivein.com/la/thibodaux/800-north-canal-boulevard.html,http://sonicdrivein.com,http://www.sonicdrivein.com'),\n",
       " ('SONIC Drive In', 'https://locations.sonicdrivein.com/la/thibodaux/800-north-canal-boulevard.html,http://sonicdrivein.com,http://www.sonicdrivein.com'),\n",
       " ('SONIC Drive In', 'https://locations.sonicdrivein.com/la/thibodaux/800-north-canal-boulevard.html,http://sonicdrivein.com,http://www.sonicdrivein.com'),\n",
       " ('SONIC Drive In', 'https://locations.sonicdrivein.com/la/thibodaux/800-north-canal-boulevard.html,http://sonicdrivein.com,http://www.sonicdrivein.com'),\n",
       " ('Taco Bell', 'http://www.tacobell.com,https://locations.tacobell.com/tn/pigeon-forge/206-wears-valley-road.html?utm_source=yextandutm_campaign=yextpowerlistingsandutm_medium=referralandutm_term=026432andutm_content=website'),\n",
       " (\"Arby's\", 'http://www.arbys.com,https://locations.arbys.com/us/tn/pigeon-forge/3652-parkway.html'),\n",
       " (\"Steak 'n Shake\", 'http://www.steaknshake.com/locations/23851-steak-n-shake-mt-zion-parkway-morrow'),\n",
       " (\"Wendy's\", 'http://www.wendys.com'),\n",
       " ('Burger King', 'http://bk.com,http://www.bk.com'),\n",
       " ('Chipotle Mexican Grill', 'http://www.chipotle.com,http://www.lasalsa.com')]"
      ]
     },
     "execution_count": 22,
     "metadata": {},
     "output_type": "execute_result"
    }
   ],
   "source": [
    "%%sql\n",
    "-- INNER JOIN: returns rows when there is a match in both tables.\n",
    "-- LEFT JOIN: returns all rows from the left table, even if there are no matches in the right table.\n",
    "-- RIGHT JOIN: returns all rows from the right table, even if there are no matches in the left table.\n",
    "-- FULL JOIN: combines the results of both left and right outer joins.\n",
    "-- CROSS JOIN: \n",
    "\n",
    "SELECT ri.name, oi.websites\n",
    "FROM restaurant_info ri\n",
    "INNER JOIN online_info oi ON ri.id = oi.id\n",
    "LIMIT 10;"
   ]
  },
  {
   "cell_type": "code",
   "execution_count": 23,
   "metadata": {},
   "outputs": [
    {
     "name": "stdout",
     "output_type": "stream",
     "text": [
      " * sqlite:///./db/fast_food_restaurants.db\n",
      "Done.\n"
     ]
    },
    {
     "data": {
      "text/html": [
       "<table>\n",
       "    <thead>\n",
       "        <tr>\n",
       "            <th>name</th>\n",
       "            <th>categories</th>\n",
       "        </tr>\n",
       "    </thead>\n",
       "    <tbody>\n",
       "        <tr>\n",
       "            <td>SONIC Drive In</td>\n",
       "            <td>American Restaurant and Fast Food Restaurant</td>\n",
       "        </tr>\n",
       "        <tr>\n",
       "            <td>SONIC Drive In</td>\n",
       "            <td>Fast Food Restaurants</td>\n",
       "        </tr>\n",
       "        <tr>\n",
       "            <td>SONIC Drive In</td>\n",
       "            <td>Fast Food Restaurant</td>\n",
       "        </tr>\n",
       "        <tr>\n",
       "            <td>SONIC Drive In</td>\n",
       "            <td>Fast Food</td>\n",
       "        </tr>\n",
       "        <tr>\n",
       "            <td>SONIC Drive In</td>\n",
       "            <td>Fast Food Restaurant</td>\n",
       "        </tr>\n",
       "    </tbody>\n",
       "</table>"
      ],
      "text/plain": [
       "[('SONIC Drive In', 'American Restaurant and Fast Food Restaurant'),\n",
       " ('SONIC Drive In', 'Fast Food Restaurants'),\n",
       " ('SONIC Drive In', 'Fast Food Restaurant'),\n",
       " ('SONIC Drive In', 'Fast Food'),\n",
       " ('SONIC Drive In', 'Fast Food Restaurant')]"
      ]
     },
     "execution_count": 23,
     "metadata": {},
     "output_type": "execute_result"
    }
   ],
   "source": [
    "%%sql\n",
    "\n",
    "-- Self Join: table joins w/ itself\n",
    "\n",
    "SELECT A.name, B.categories\n",
    "FROM restaurant_info A, restaurant_info B\n",
    "LIMIT 5;"
   ]
  },
  {
   "cell_type": "code",
   "execution_count": 26,
   "metadata": {},
   "outputs": [
    {
     "name": "stdout",
     "output_type": "stream",
     "text": [
      " * sqlite:///./db/fast_food_restaurants.db\n",
      "1 rows affected.\n"
     ]
    },
    {
     "data": {
      "text/plain": [
       "[]"
      ]
     },
     "execution_count": 26,
     "metadata": {},
     "output_type": "execute_result"
    }
   ],
   "source": [
    "%%sql\n",
    "INSERT INTO restaurant_info (id, name, categories)\n",
    "VALUES ('new_id', \"Jared's Restaurant\", 'Fast Food');"
   ]
  },
  {
   "cell_type": "code",
   "execution_count": 29,
   "metadata": {},
   "outputs": [
    {
     "name": "stdout",
     "output_type": "stream",
     "text": [
      " * sqlite:///./db/fast_food_restaurants.db\n",
      "Done.\n"
     ]
    },
    {
     "data": {
      "text/html": [
       "<table>\n",
       "    <thead>\n",
       "        <tr>\n",
       "            <th>id</th>\n",
       "            <th>name</th>\n",
       "            <th>categories</th>\n",
       "        </tr>\n",
       "    </thead>\n",
       "    <tbody>\n",
       "        <tr>\n",
       "            <td>new_id</td>\n",
       "            <td>Jared&#x27;s New Restaurant</td>\n",
       "            <td>Fast Food</td>\n",
       "        </tr>\n",
       "    </tbody>\n",
       "</table>"
      ],
      "text/plain": [
       "[('new_id', \"Jared's New Restaurant\", 'Fast Food')]"
      ]
     },
     "execution_count": 29,
     "metadata": {},
     "output_type": "execute_result"
    }
   ],
   "source": [
    "%%sql\n",
    "SELECT * FROM restaurant_info\n",
    "WHERE id = 'new_id';"
   ]
  },
  {
   "cell_type": "code",
   "execution_count": 28,
   "metadata": {},
   "outputs": [
    {
     "name": "stdout",
     "output_type": "stream",
     "text": [
      " * sqlite:///./db/fast_food_restaurants.db\n",
      "1 rows affected.\n"
     ]
    },
    {
     "data": {
      "text/plain": [
       "[]"
      ]
     },
     "execution_count": 28,
     "metadata": {},
     "output_type": "execute_result"
    }
   ],
   "source": [
    "%%sql\n",
    "UPDATE restaurant_info\n",
    "SET name = \"Jared's New Restaurant\"\n",
    "WHERE id = 'new_id';"
   ]
  },
  {
   "cell_type": "code",
   "execution_count": 31,
   "metadata": {},
   "outputs": [
    {
     "name": "stdout",
     "output_type": "stream",
     "text": [
      " * sqlite:///./db/fast_food_restaurants.db\n",
      "1 rows affected.\n"
     ]
    },
    {
     "data": {
      "text/plain": [
       "[]"
      ]
     },
     "execution_count": 31,
     "metadata": {},
     "output_type": "execute_result"
    }
   ],
   "source": [
    "%%sql\n",
    "DELETE FROM restaurant_info\n",
    "WHERE id = 'new_id';"
   ]
  },
  {
   "cell_type": "code",
   "execution_count": 32,
   "metadata": {},
   "outputs": [
    {
     "name": "stdout",
     "output_type": "stream",
     "text": [
      " * sqlite:///./db/fast_food_restaurants.db\n",
      "Done.\n"
     ]
    },
    {
     "data": {
      "text/html": [
       "<table>\n",
       "    <thead>\n",
       "        <tr>\n",
       "            <th>id</th>\n",
       "            <th>name</th>\n",
       "            <th>categories</th>\n",
       "        </tr>\n",
       "    </thead>\n",
       "    <tbody>\n",
       "    </tbody>\n",
       "</table>"
      ],
      "text/plain": [
       "[]"
      ]
     },
     "execution_count": 32,
     "metadata": {},
     "output_type": "execute_result"
    }
   ],
   "source": [
    "%%sql\n",
    "SELECT * FROM restaurant_info\n",
    "WHERE id LIKE 'new%';"
   ]
  },
  {
   "cell_type": "code",
   "execution_count": null,
   "metadata": {},
   "outputs": [],
   "source": []
  }
 ],
 "metadata": {
  "kernelspec": {
   "display_name": "venv",
   "language": "python",
   "name": "python3"
  },
  "language_info": {
   "codemirror_mode": {
    "name": "ipython",
    "version": 3
   },
   "file_extension": ".py",
   "mimetype": "text/x-python",
   "name": "python",
   "nbconvert_exporter": "python",
   "pygments_lexer": "ipython3",
   "version": "3.12.0"
  }
 },
 "nbformat": 4,
 "nbformat_minor": 2
}
