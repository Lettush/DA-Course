{
 "cells": [
  {
   "cell_type": "markdown",
   "metadata": {},
   "source": [
    "### **Data Analytics Task: Analyzing Retail Sales Data**\n",
    "**Scenario:**\n",
    "You work as a data analyst for a retail company that operates several stores. Your task is to analyze the last month's sales data for different products across these stores. The dataset includes sales figures (units sold) for three products (Product A, Product B, Product C) across five stores.\n",
    "\n",
    "**Objective:**\n",
    "- Calculate the total sales (units sold) for each product across all stores.\n",
    "- Determine the store with the highest sales for each product.\n",
    "- Calculate the overall sales across all products and stores.\n",
    "- Identify the product with the highest sales across all stores."
   ]
  },
  {
   "cell_type": "code",
   "execution_count": 2,
   "metadata": {},
   "outputs": [
    {
     "name": "stdout",
     "output_type": "stream",
     "text": [
      "Products Sold: Product A - 335, Product B - 246, Product C - 249\n",
      "Highest Sold Per Product: Product A - Store 2, Product B - Store 3, Product C - Store 1\n",
      "Total Sold: 830\n",
      "Highest Sold per Store: ['Store 0: Product C', 'Store 1: Product C', 'Store 2: Product A', 'Store 3: Product B', 'Store 4: Product B']\n"
     ]
    }
   ],
   "source": [
    "import numpy as np\n",
    "np.random.seed(42)\n",
    "sales_data = np.random.randint(20, 100, size=(5, 3))\n",
    "sales_data\n",
    "\n",
    "categories = [\"Product A\", \"Product B\", \"Product C\"]\n",
    "\n",
    "products_sold = f\"Products Sold: Product A - {np.sum(sales_data, axis=0)[0]}, Product B - {\n",
    "    np.sum(sales_data, axis=0)[1]}, Product C - {np.sum(sales_data, axis=0)[2]}\"\n",
    "highest_sold_per_product = f\"Highest Sold Per Product: Product A - Store {np.argmax(sales_data, axis=0)[0]}, Product B - Store {\n",
    "    np.argmax(sales_data, axis=0)[1]}, Product C - Store {np.argmax(sales_data, axis=0)[2]}\"\n",
    "total_sold = f\"Total Sold: {np.sum(sales_data)}\"\n",
    "highest_sold_per_store = f\"Highest Sold per Store: {[f'Store {count}: {\n",
    "    categories[i]}' for count, i in enumerate(np.argmax(sales_data, axis=1))]}\"\n",
    "\n",
    "print(products_sold)\n",
    "print(highest_sold_per_product)\n",
    "print(total_sold)\n",
    "print(highest_sold_per_store)"
   ]
  },
  {
   "cell_type": "markdown",
   "metadata": {},
   "source": [
    "## Interpretation of Data\n",
    "1. The product with the highest sales is Product A with 335. Product B and Product C almost share the same amount of sales, but they have remarkably lower sales compared to Product A.\n",
    "    - Product A seems to have a higher demand compared to the other products.\n",
    "2. Store 2 has sold the most for Product A, Store 3 has sold the most for Product B and Store 1 has sold the most for Product C.\n",
    "    - In local contexts, Product A is the more popular choice for Store 2.\n",
    "    - Store 3 customers would prefer Product B.\n",
    "    - Store 1 customers would prefer Product C.\n",
    "3. The total products sold for Products A, B and C would total to 830.\n",
    "4. The most popular product per store would be as follows:\n",
    "\n",
    "    | Store    | Product |\n",
    "    | -------- | ------- |\n",
    "    | 0        | C       |\n",
    "    | 1        | C       |\n",
    "    | 2        | A       |\n",
    "    | 3        | B       |\n",
    "    | 4        | B       |"
   ]
  },
  {
   "cell_type": "markdown",
   "metadata": {},
   "source": [
    "## Recommendations:\n",
    "1. Analyze the demand for Product A, and look at the factors such as store locations, customer demand and product comparisons to find the reason for the Gap between Product A compared to Products B and C.\n",
    "2. The most popular products per store can also be a factor to track customer demand, so each store can increase their stock for their most popular choices."
   ]
  }
 ],
 "metadata": {
  "kernelspec": {
   "display_name": "venv",
   "language": "python",
   "name": "python3"
  },
  "language_info": {
   "codemirror_mode": {
    "name": "ipython",
    "version": 3
   },
   "file_extension": ".py",
   "mimetype": "text/x-python",
   "name": "python",
   "nbconvert_exporter": "python",
   "pygments_lexer": "ipython3",
   "version": "3.12.0"
  }
 },
 "nbformat": 4,
 "nbformat_minor": 2
}
