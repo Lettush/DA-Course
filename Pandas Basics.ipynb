{
 "cells": [
  {
   "cell_type": "markdown",
   "metadata": {},
   "source": [
    "## Pandas Basics"
   ]
  },
  {
   "cell_type": "code",
   "execution_count": 1,
   "metadata": {},
   "outputs": [],
   "source": [
    "import pandas as pd\n",
    "\n",
    "df = pd.DataFrame({\n",
    "    'Name': ['Alice','Mike'],\n",
    "    'Age': [25,30],\n",
    "    'City': ['Taguig','Pasig']\n",
    "})\n",
    "\n",
    "df = [\n",
    "    {'EmployeeID': 'E01','Work Environment':4,'Management':5},\n",
    "    {'EmployeeID': 'E02','Work Environment':3,'Management':4},\n",
    "    {'EmployeeID': 'E03','Work Environment':5,'Management':3}\n",
    "]"
   ]
  },
  {
   "cell_type": "code",
   "execution_count": 2,
   "metadata": {},
   "outputs": [
    {
     "name": "stdout",
     "output_type": "stream",
     "text": [
      "                                 Products Quantity   Price   Care of\n",
      "0                            Ryzen 5 7600        1  11,995       Ron\n",
      "1                MSI B650M-A ATX w/ Wi-Fi        1  10,895      Abbi\n",
      "2          Sapphire Pulse RX 7600 XT 16GB        1  20,050  Princess\n",
      "3  Crucial Pro 32GB (2x16BM) DDR5 6000Mhz        1   7,299   Ariston\n"
     ]
    }
   ],
   "source": [
    "# Exercise\n",
    "my_wish_list = pd.DataFrame({\n",
    "    'Products': ['Ryzen 5 7600', 'MSI B650M-A ATX w/ Wi-Fi', 'Sapphire Pulse RX 7600 XT 16GB', 'Crucial Pro 32GB (2x16BM) DDR5 6000Mhz'],\n",
    "    'Quantity': ['1', '1', '1', '1'],\n",
    "    'Price': ['11,995', '10,895', '20,050', '7,299'],\n",
    "    'Care of': ['Ron', 'Abbi', 'Princess', 'Ariston']\n",
    "})\n",
    "\n",
    "print(my_wish_list)"
   ]
  },
  {
   "cell_type": "code",
   "execution_count": 3,
   "metadata": {},
   "outputs": [
    {
     "data": {
      "text/plain": [
       "DatetimeIndex(['2018-04-24', '2018-04-25', '2018-04-26', '2018-04-27'], dtype='datetime64[ns]', freq=None)"
      ]
     },
     "execution_count": 3,
     "metadata": {},
     "output_type": "execute_result"
    }
   ],
   "source": [
    "# Create a range of periods from a start to an end date\n",
    "pd.date_range(start='2018-04-24', end='2018-04-27', periods=4)"
   ]
  }
 ],
 "metadata": {
  "kernelspec": {
   "display_name": "venv",
   "language": "python",
   "name": "python3"
  },
  "language_info": {
   "codemirror_mode": {
    "name": "ipython",
    "version": 3
   },
   "file_extension": ".py",
   "mimetype": "text/x-python",
   "name": "python",
   "nbconvert_exporter": "python",
   "pygments_lexer": "ipython3",
   "version": "3.12.0"
  }
 },
 "nbformat": 4,
 "nbformat_minor": 2
}
