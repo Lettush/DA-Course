{
 "cells": [
  {
   "cell_type": "code",
   "execution_count": 1,
   "metadata": {},
   "outputs": [
    {
     "name": "stdout",
     "output_type": "stream",
     "text": [
      "3.141592653589793\n"
     ]
    }
   ],
   "source": [
    "import math\n",
    "\n",
    "print(math.pi)"
   ]
  },
  {
   "cell_type": "code",
   "execution_count": 2,
   "metadata": {},
   "outputs": [
    {
     "name": "stdout",
     "output_type": "stream",
     "text": [
      "Cleaned data.\n"
     ]
    }
   ],
   "source": [
    "from modules.data_preprocessing import clean_data\n",
    "\n",
    "clean_data()"
   ]
  },
  {
   "cell_type": "markdown",
   "metadata": {},
   "source": [
    "### Module Exercise"
   ]
  },
  {
   "cell_type": "code",
   "execution_count": 4,
   "metadata": {},
   "outputs": [
    {
     "name": "stdout",
     "output_type": "stream",
     "text": [
      "{'name': 'Jared', 'age': 23}\n"
     ]
    }
   ],
   "source": [
    "import json\n",
    "\n",
    "with open('./modules/data.json','r') as file:\n",
    "    data = json.load(file)\n",
    "\n",
    "print(data)\n"
   ]
  },
  {
   "cell_type": "code",
   "execution_count": 1,
   "metadata": {},
   "outputs": [
    {
     "data": {
      "text/plain": [
       "array([1, 2, 3, 4, 5])"
      ]
     },
     "execution_count": 1,
     "metadata": {},
     "output_type": "execute_result"
    }
   ],
   "source": [
    "import numpy as np\n",
    "import pandas as pd\n",
    "\n",
    "array = np.array([1, 2, 3, 4, 5])\n",
    "\n",
    "array"
   ]
  },
  {
   "cell_type": "code",
   "execution_count": 2,
   "metadata": {},
   "outputs": [
    {
     "name": "stdout",
     "output_type": "stream",
     "text": [
      "   ID Address  Sales\n",
      "0   1       a    123\n",
      "1   2       b    456\n",
      "2   3       c    789\n",
      "3   4       d    100\n"
     ]
    }
   ],
   "source": [
    "data = {'ID': [1, 2, 3, 4],\n",
    "        'Address': ['a', 'b', 'c', 'd'],\n",
    "        'Sales': [123, 456, 789, 100]}\n",
    "\n",
    "df = pd.DataFrame(data)\n",
    "print(df)"
   ]
  },
  {
   "cell_type": "code",
   "execution_count": 8,
   "metadata": {},
   "outputs": [
    {
     "name": "stdout",
     "output_type": "stream",
     "text": [
      "367.0\n"
     ]
    }
   ],
   "source": [
    "average = df['Sales'].mean()\n",
    "\n",
    "print(average)"
   ]
  },
  {
   "cell_type": "code",
   "execution_count": 9,
   "metadata": {},
   "outputs": [
    {
     "name": "stdout",
     "output_type": "stream",
     "text": [
      "Help on function add in module __main__:\n",
      "\n",
      "add(a, b)\n",
      "    Add two numbers together.\n",
      "\n",
      "    Parameters:\n",
      "    a (int): First Number\n",
      "    b (int): Second Number\n",
      "\n",
      "    Returns:\n",
      "    int: Sum of the two numbers\n",
      "\n"
     ]
    }
   ],
   "source": [
    "def add(a,b):\n",
    "    \"\"\"\n",
    "    Add two numbers together.\n",
    "\n",
    "    Parameters:\n",
    "    a (int): First Number\n",
    "    b (int): Second Number\n",
    "\n",
    "    Returns:\n",
    "    int: Sum of the two numbers\n",
    "    \"\"\"\n",
    "    return a + b\n",
    "\n",
    "help(add)"
   ]
  },
  {
   "cell_type": "code",
   "execution_count": 13,
   "metadata": {},
   "outputs": [
    {
     "name": "stdout",
     "output_type": "stream",
     "text": [
      "21\n",
      "Help on function multiply in module __main__:\n",
      "\n",
      "multiply(a, b)\n",
      "    Multiply two numbers together.\n",
      "\n",
      "    Parameters:\n",
      "    a (int): First Number\n",
      "    b (int): Second Number\n",
      "\n",
      "    Returns:\n",
      "    int: Product of the two numbers\n",
      "\n"
     ]
    }
   ],
   "source": [
    "def multiply(a, b):\n",
    "    \"\"\"\n",
    "    Multiply two numbers together.\n",
    "\n",
    "    Parameters:\n",
    "    a (int): First Number\n",
    "    b (int): Second Number\n",
    "\n",
    "    Returns:\n",
    "    int: Product of the two numbers\n",
    "    \"\"\"\n",
    "    return a * b\n",
    "\n",
    "\n",
    "print(multiply(3, 7))\n",
    "help(multiply)"
   ]
  },
  {
   "cell_type": "code",
   "execution_count": 21,
   "metadata": {},
   "outputs": [
    {
     "name": "stdout",
     "output_type": "stream",
     "text": [
      "(3,)\n",
      "(2, 3)\n",
      "[3.14 2.   3.  ]\n",
      "<class 'numpy.float64'>\n",
      "[3 2 3]\n"
     ]
    }
   ],
   "source": [
    "import numpy as np\n",
    "\n",
    "# 1D ndarray\n",
    "array1 = np.array([1, 2, 3])\n",
    "print(array1.shape)\n",
    "\n",
    "# 2D ndarray\n",
    "array2 = np.array([[1, 2, 3], [1, 2, 3]])\n",
    "print(array2.shape)\n",
    "\n",
    "# Type coercion\n",
    "array3 = np.array([3.14, 2, 3])\n",
    "print(array3) # converts everything to float64\n",
    "print(type(array3[1]))\n",
    "\n",
    "# Explicit Type Coercion\n",
    "array4 = np.array([3.14, 2, 3], dtype=np.int64) # dtype = data type for array\n",
    "print(array4)"
   ]
  },
  {
   "cell_type": "code",
   "execution_count": 1,
   "metadata": {},
   "outputs": [
    {
     "name": "stdout",
     "output_type": "stream",
     "text": [
      "[10 21 32 43]\n",
      "[10 19 28 37]\n",
      "[  0  20  60 120]\n",
      "[0 1 2 3]\n"
     ]
    }
   ],
   "source": [
    "import numpy as np\n",
    "\n",
    "a = np.array([10,20,30,40])\n",
    "b = np.arange(4) # create array from 0 to 3\n",
    "\n",
    "d = a + b\n",
    "print(d)\n",
    "d = a - b\n",
    "print(d)\n",
    "d = a * b\n",
    "print(d)\n",
    "d = np.array(b * a / a, dtype=np.int64)\n",
    "print(d)"
   ]
  },
  {
   "cell_type": "code",
   "execution_count": 2,
   "metadata": {},
   "outputs": [
    {
     "name": "stdout",
     "output_type": "stream",
     "text": [
      "[[2 0]\n",
      " [0 4]]\n"
     ]
    }
   ],
   "source": [
    "# Basic Array Operations\n",
    "A = np.array([[1,1], [0,1]])\n",
    "B = np.array([[2,0], [3,4]])\n",
    "\n",
    "print(A*B)"
   ]
  },
  {
   "cell_type": "code",
   "execution_count": 11,
   "metadata": {},
   "outputs": [
    {
     "name": "stdout",
     "output_type": "stream",
     "text": [
      "[ 0  1  4  9 16 25 36 49 64 81]\n",
      "[ 0  1  4  9 16 25 36 49 64 81]\n"
     ]
    },
    {
     "data": {
      "text/plain": [
       "array([ 0,  1,  4,  9, 16])"
      ]
     },
     "execution_count": 11,
     "metadata": {},
     "output_type": "execute_result"
    }
   ],
   "source": [
    "arr = np.arange(10)**2\n",
    "print(arr)\n",
    "print(np.array([i ** 2 for i in range(10)]))\n",
    "arr[0:5]"
   ]
  },
  {
   "cell_type": "code",
   "execution_count": 13,
   "metadata": {},
   "outputs": [
    {
     "name": "stdout",
     "output_type": "stream",
     "text": [
      "(3, 3, 3)\n",
      "[[[  1   1   3]\n",
      "  [  9   8   7]\n",
      "  [  5   1   3]]\n",
      "\n",
      " [[  1   1   3]\n",
      "  [  9   8   7]\n",
      "  [ 50   1   3]]\n",
      "\n",
      " [[ 10  10  30]\n",
      "  [ 90  80  70]\n",
      "  [500  10 300]]]\n"
     ]
    }
   ],
   "source": [
    "A = np.array([[[1, 1, 3], [9, 8, 7], [5, 1, 3]], [[1, 1, 3], [9, 8, 7], [\n",
    "             50, 1, 3]], [[10, 10, 30], [90, 80, 70], [500, 10, 300]]])\n",
    "print(A.shape)\n",
    "print(A)"
   ]
  },
  {
   "cell_type": "code",
   "execution_count": 19,
   "metadata": {},
   "outputs": [
    {
     "name": "stdout",
     "output_type": "stream",
     "text": [
      "50\n",
      "50\n"
     ]
    },
    {
     "data": {
      "text/plain": [
       "array([[[ 1,  1,  3],\n",
       "        [ 9,  8,  7],\n",
       "        [ 5,  1,  3]],\n",
       "\n",
       "       [[ 1,  1,  3],\n",
       "        [ 9,  8,  7],\n",
       "        [50,  1,  3]]])"
      ]
     },
     "execution_count": 19,
     "metadata": {},
     "output_type": "execute_result"
    }
   ],
   "source": [
    "# The first index inside the third array of the second array\n",
    "print(A[1,2,0])\n",
    "print(A[1][2][0])\n",
    "A[0:2]"
   ]
  },
  {
   "cell_type": "code",
   "execution_count": 21,
   "metadata": {},
   "outputs": [
    {
     "data": {
      "text/plain": [
       "array([ 0,  2,  4,  6,  8, 10, 12, 14, 16, 18, 20, 22, 24, 26, 28])"
      ]
     },
     "execution_count": 21,
     "metadata": {},
     "output_type": "execute_result"
    }
   ],
   "source": [
    "sequence = np.arange(0,30,2) # start, stop, steps\n",
    "sequence"
   ]
  },
  {
   "cell_type": "code",
   "execution_count": 24,
   "metadata": {},
   "outputs": [
    {
     "data": {
      "text/plain": [
       "array([ 0. ,  7.5, 15. , 22.5, 30. ])"
      ]
     },
     "execution_count": 24,
     "metadata": {},
     "output_type": "execute_result"
    }
   ],
   "source": [
    "np.linspace(0,30,5) # start, stop, no. of points (divides range into no. of points)"
   ]
  },
  {
   "cell_type": "code",
   "execution_count": 30,
   "metadata": {},
   "outputs": [
    {
     "data": {
      "text/plain": [
       "array([[0.54379504, 0.99029757, 0.46085687],\n",
       "       [0.18133611, 0.41406711, 0.47812239]])"
      ]
     },
     "execution_count": 30,
     "metadata": {},
     "output_type": "execute_result"
    }
   ],
   "source": [
    "x = np.random.random((2,3)) # takes in a shape, and generates a random float between 0 and 1\n",
    "x"
   ]
  },
  {
   "cell_type": "code",
   "execution_count": 36,
   "metadata": {},
   "outputs": [
    {
     "data": {
      "text/plain": [
       "array([[16, 20, 42],\n",
       "       [ 6, 23, 39],\n",
       "       [20, 50, 71]])"
      ]
     },
     "execution_count": 36,
     "metadata": {},
     "output_type": "execute_result"
    }
   ],
   "source": [
    "x = np.random.randint(0,100,(3,3)) # min, max, shape\n",
    "x"
   ]
  },
  {
   "cell_type": "markdown",
   "metadata": {},
   "source": [
    "### Basic Statistics"
   ]
  },
  {
   "cell_type": "code",
   "execution_count": 47,
   "metadata": {},
   "outputs": [
    {
     "data": {
      "text/plain": [
       "array([[79, 79, 98],\n",
       "       [84, 75, 94],\n",
       "       [80, 85, 94]])"
      ]
     },
     "execution_count": 47,
     "metadata": {},
     "output_type": "execute_result"
    }
   ],
   "source": [
    "data = np.random.randint(75, 100, (3,3))\n",
    "data"
   ]
  },
  {
   "cell_type": "code",
   "execution_count": 48,
   "metadata": {},
   "outputs": [
    {
     "data": {
      "text/plain": [
       "85.33333333333333"
      ]
     },
     "execution_count": 48,
     "metadata": {},
     "output_type": "execute_result"
    }
   ],
   "source": [
    "np.mean(data)"
   ]
  },
  {
   "cell_type": "code",
   "execution_count": 49,
   "metadata": {},
   "outputs": [
    {
     "data": {
      "text/plain": [
       "84.0"
      ]
     },
     "execution_count": 49,
     "metadata": {},
     "output_type": "execute_result"
    }
   ],
   "source": [
    "np.median(data)"
   ]
  },
  {
   "cell_type": "code",
   "execution_count": 50,
   "metadata": {},
   "outputs": [
    {
     "data": {
      "text/plain": [
       "7.659416862050705"
      ]
     },
     "execution_count": 50,
     "metadata": {},
     "output_type": "execute_result"
    }
   ],
   "source": [
    "np.std(data)"
   ]
  },
  {
   "cell_type": "code",
   "execution_count": 52,
   "metadata": {},
   "outputs": [
    {
     "data": {
      "text/plain": [
       "8.863407922464136"
      ]
     },
     "execution_count": 52,
     "metadata": {},
     "output_type": "execute_result"
    }
   ],
   "source": [
    "import math\n",
    "math.sqrt(78.56)"
   ]
  },
  {
   "cell_type": "code",
   "execution_count": 54,
   "metadata": {},
   "outputs": [
    {
     "data": {
      "text/plain": [
       "array([92, 97, 99, 91, 95])"
      ]
     },
     "execution_count": 54,
     "metadata": {},
     "output_type": "execute_result"
    }
   ],
   "source": [
    "data = np.random.randint(75, 100, (5))\n",
    "data"
   ]
  },
  {
   "cell_type": "code",
   "execution_count": 59,
   "metadata": {},
   "outputs": [
    {
     "name": "stdout",
     "output_type": "stream",
     "text": [
      "99\n",
      "91\n",
      "474\n",
      "94.8\n",
      "2.993325909419153\n",
      "8.959999999999999\n"
     ]
    }
   ],
   "source": [
    "print(np.max(data))\n",
    "print(np.min(data))\n",
    "print(np.sum(data))\n",
    "print(np.mean(data))\n",
    "print(np.std(data))\n",
    "print(np.var(data))"
   ]
  },
  {
   "cell_type": "code",
   "execution_count": 71,
   "metadata": {},
   "outputs": [
    {
     "name": "stdout",
     "output_type": "stream",
     "text": [
      "[[4 5 3 5]\n",
      " [5 2 3 3]\n",
      " [3 5 4 3]\n",
      " [5 2 4 2]\n",
      " [4 5 1 4]\n",
      " [2 5 4 1]\n",
      " [1 3 3 2]\n",
      " [4 4 3 4]\n",
      " [4 1 3 5]\n",
      " [3 5 1 2]]\n",
      "3.7\n",
      "2.9\n",
      "3.3\n"
     ]
    },
    {
     "data": {
      "text/plain": [
       "array([1.20415946, 1.48660687, 1.04403065, 1.3       ])"
      ]
     },
     "execution_count": 71,
     "metadata": {},
     "output_type": "execute_result"
    }
   ],
   "source": [
    "import numpy as np\n",
    "\n",
    "np.random.seed(42) # pick an id for a random set of numbers\n",
    "\n",
    "survey_data = np.random.randint(1,6,size= (10,4))\n",
    "print(survey_data)\n",
    "\n",
    "categories = [\"Work Environment\", \"Salary Satisfaction\", \"Work-life Balance\", \"Career Development Opportunities\"]\n",
    "categories\n",
    "\n",
    "average = np.mean(survey_data, axis=0)\n",
    "overall_average = np.mean(survey_data)\n",
    "categories[np.argmax(average)] # get category with highest\n",
    "categories[np.argmin(average)] # with lowest\n",
    "print(np.max(average))\n",
    "print(np.min(average))\n",
    "print(overall_average)\n",
    "np.std(survey_data, axis=0) # How varied the data is\n"
   ]
  },
  {
   "cell_type": "markdown",
   "metadata": {},
   "source": [
    "### Interpretation of the Result\n",
    "\n",
    "1. Salary satisfaction has the highest average score of 3.7, indicating that, on average, employees feel relatively more satisfied with their salaries than with other aspects covered in the survey.\n",
    "\n",
    "2. Work-life balance has the lowest average score of 2.9, indicating that, on average, employees are having a harder time in balancing professional and personal lives.\n",
    "\n",
    "3. The overall Average Satisfaction Score across all categories is 2.96, which is satisfactory with room for improvements for the company."
   ]
  }
 ],
 "metadata": {
  "kernelspec": {
   "display_name": "Python 3",
   "language": "python",
   "name": "python3"
  },
  "language_info": {
   "codemirror_mode": {
    "name": "ipython",
    "version": 3
   },
   "file_extension": ".py",
   "mimetype": "text/x-python",
   "name": "python",
   "nbconvert_exporter": "python",
   "pygments_lexer": "ipython3",
   "version": "3.12.0"
  }
 },
 "nbformat": 4,
 "nbformat_minor": 2
}
