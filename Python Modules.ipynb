{
 "cells": [
  {
   "cell_type": "code",
   "execution_count": 1,
   "metadata": {},
   "outputs": [
    {
     "name": "stdout",
     "output_type": "stream",
     "text": [
      "3.141592653589793\n"
     ]
    }
   ],
   "source": [
    "import math\n",
    "\n",
    "print(math.pi)"
   ]
  },
  {
   "cell_type": "code",
   "execution_count": 2,
   "metadata": {},
   "outputs": [
    {
     "name": "stdout",
     "output_type": "stream",
     "text": [
      "Cleaned data.\n"
     ]
    }
   ],
   "source": [
    "from modules.data_preprocessing import clean_data\n",
    "\n",
    "clean_data()"
   ]
  },
  {
   "cell_type": "markdown",
   "metadata": {},
   "source": [
    "### Module Exercise"
   ]
  },
  {
   "cell_type": "code",
   "execution_count": 4,
   "metadata": {},
   "outputs": [
    {
     "name": "stdout",
     "output_type": "stream",
     "text": [
      "{'name': 'Jared', 'age': 23}\n"
     ]
    }
   ],
   "source": [
    "import json\n",
    "\n",
    "with open('./modules/data.json','r') as file:\n",
    "    data = json.load(file)\n",
    "\n",
    "print(data)\n"
   ]
  },
  {
   "cell_type": "code",
   "execution_count": 1,
   "metadata": {},
   "outputs": [
    {
     "data": {
      "text/plain": [
       "array([1, 2, 3, 4, 5])"
      ]
     },
     "execution_count": 1,
     "metadata": {},
     "output_type": "execute_result"
    }
   ],
   "source": [
    "import numpy as np\n",
    "import pandas as pd\n",
    "\n",
    "array = np.array([1, 2, 3, 4, 5])\n",
    "\n",
    "array"
   ]
  },
  {
   "cell_type": "code",
   "execution_count": 2,
   "metadata": {},
   "outputs": [
    {
     "name": "stdout",
     "output_type": "stream",
     "text": [
      "   ID Address  Sales\n",
      "0   1       a    123\n",
      "1   2       b    456\n",
      "2   3       c    789\n",
      "3   4       d    100\n"
     ]
    }
   ],
   "source": [
    "data = {'ID': [1, 2, 3, 4],\n",
    "        'Address': ['a', 'b', 'c', 'd'],\n",
    "        'Sales': [123, 456, 789, 100]}\n",
    "\n",
    "df = pd.DataFrame(data)\n",
    "print(df)"
   ]
  },
  {
   "cell_type": "code",
   "execution_count": 8,
   "metadata": {},
   "outputs": [
    {
     "name": "stdout",
     "output_type": "stream",
     "text": [
      "367.0\n"
     ]
    }
   ],
   "source": [
    "average = df['Sales'].mean()\n",
    "\n",
    "print(average)"
   ]
  },
  {
   "cell_type": "code",
   "execution_count": 9,
   "metadata": {},
   "outputs": [
    {
     "name": "stdout",
     "output_type": "stream",
     "text": [
      "Help on function add in module __main__:\n",
      "\n",
      "add(a, b)\n",
      "    Add two numbers together.\n",
      "\n",
      "    Parameters:\n",
      "    a (int): First Number\n",
      "    b (int): Second Number\n",
      "\n",
      "    Returns:\n",
      "    int: Sum of the two numbers\n",
      "\n"
     ]
    }
   ],
   "source": [
    "def add(a,b):\n",
    "    \"\"\"\n",
    "    Add two numbers together.\n",
    "\n",
    "    Parameters:\n",
    "    a (int): First Number\n",
    "    b (int): Second Number\n",
    "\n",
    "    Returns:\n",
    "    int: Sum of the two numbers\n",
    "    \"\"\"\n",
    "    return a + b\n",
    "\n",
    "help(add)"
   ]
  },
  {
   "cell_type": "code",
   "execution_count": 13,
   "metadata": {},
   "outputs": [
    {
     "name": "stdout",
     "output_type": "stream",
     "text": [
      "21\n",
      "Help on function multiply in module __main__:\n",
      "\n",
      "multiply(a, b)\n",
      "    Multiply two numbers together.\n",
      "\n",
      "    Parameters:\n",
      "    a (int): First Number\n",
      "    b (int): Second Number\n",
      "\n",
      "    Returns:\n",
      "    int: Product of the two numbers\n",
      "\n"
     ]
    }
   ],
   "source": [
    "def multiply(a, b):\n",
    "    \"\"\"\n",
    "    Multiply two numbers together.\n",
    "\n",
    "    Parameters:\n",
    "    a (int): First Number\n",
    "    b (int): Second Number\n",
    "\n",
    "    Returns:\n",
    "    int: Product of the two numbers\n",
    "    \"\"\"\n",
    "    return a * b\n",
    "\n",
    "\n",
    "print(multiply(3, 7))\n",
    "help(multiply)"
   ]
  },
  {
   "cell_type": "code",
   "execution_count": 21,
   "metadata": {},
   "outputs": [
    {
     "name": "stdout",
     "output_type": "stream",
     "text": [
      "(3,)\n",
      "(2, 3)\n",
      "[3.14 2.   3.  ]\n",
      "<class 'numpy.float64'>\n",
      "[3 2 3]\n"
     ]
    }
   ],
   "source": [
    "import numpy as np\n",
    "\n",
    "# 1D ndarray\n",
    "array1 = np.array([1, 2, 3])\n",
    "print(array1.shape)\n",
    "\n",
    "# 2D ndarray\n",
    "array2 = np.array([[1, 2, 3], [1, 2, 3]])\n",
    "print(array2.shape)\n",
    "\n",
    "# Type coercion\n",
    "array3 = np.array([3.14, 2, 3])\n",
    "print(array3) # converts everything to float64\n",
    "print(type(array3[1]))\n",
    "\n",
    "# Explicit Type Coercion\n",
    "array4 = np.array([3.14, 2, 3], dtype=np.int64) # dtype = data type for array\n",
    "print(array4)"
   ]
  },
  {
   "cell_type": "code",
   "execution_count": 39,
   "metadata": {},
   "outputs": [
    {
     "name": "stdout",
     "output_type": "stream",
     "text": [
      "[10 21 32 43]\n",
      "[10 19 28 37]\n",
      "[  0  20  60 120]\n",
      "[0 1 2 3]\n"
     ]
    }
   ],
   "source": [
    "import numpy as np\n",
    "\n",
    "a = np.array([10,20,30,40])\n",
    "b = np.arange(4) # create array from 0 to 3\n",
    "\n",
    "d = a + b\n",
    "print(d)\n",
    "d = a - b\n",
    "print(d)\n",
    "d = a * b\n",
    "print(d)\n",
    "d = np.array(b * a / a, dtype=np.int64)\n",
    "print(d)"
   ]
  }
 ],
 "metadata": {
  "kernelspec": {
   "display_name": "Python 3",
   "language": "python",
   "name": "python3"
  },
  "language_info": {
   "codemirror_mode": {
    "name": "ipython",
    "version": 3
   },
   "file_extension": ".py",
   "mimetype": "text/x-python",
   "name": "python",
   "nbconvert_exporter": "python",
   "pygments_lexer": "ipython3",
   "version": "3.12.0"
  }
 },
 "nbformat": 4,
 "nbformat_minor": 2
}
