{
 "cells": [
  {
   "cell_type": "markdown",
   "id": "4476f82b-7af6-41fa-b764-4071ca568bd9",
   "metadata": {
    "collapsed": true,
    "jupyter": {
     "outputs_hidden": true
    }
   },
   "source": [
    "# User Report\n",
    "![title](img/image.png)\n",
    "\n",
    "## This is an example graph.\n",
    "- Example 1\n",
    "- Example 2\n",
    "- Example 3"
   ]
  },
  {
   "cell_type": "markdown",
   "id": "062ec2ce-b3a3-4bfd-9a9d-0ae053b42ab9",
   "metadata": {},
   "source": [
    "![title](img/image2.png)"
   ]
  },
  {
   "cell_type": "markdown",
   "id": "3888d6c7-b320-460f-82e0-9c7a6aeca8b5",
   "metadata": {},
   "source": [
    "| Column 1 | Column 2 | Column 3 |\n",
    "|:---------|----------|----------|\n",
    "| Row 1    | Row 2    | Row 3    |\n",
    "| Data 1   | Data 2   | Data 3   |"
   ]
  }
 ],
 "metadata": {
  "kernelspec": {
   "display_name": "Python 3 (ipykernel)",
   "language": "python",
   "name": "python3"
  },
  "language_info": {
   "codemirror_mode": {
    "name": "ipython",
    "version": 3
   },
   "file_extension": ".py",
   "mimetype": "text/x-python",
   "name": "python",
   "nbconvert_exporter": "python",
   "pygments_lexer": "ipython3",
   "version": "3.11.7"
  }
 },
 "nbformat": 4,
 "nbformat_minor": 5
}
