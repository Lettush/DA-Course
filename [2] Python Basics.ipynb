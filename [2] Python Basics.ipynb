{
 "cells": [
  {
   "cell_type": "markdown",
   "id": "811ba24d-04a5-4552-a993-b0a58ab520d2",
   "metadata": {},
   "source": [
    "# Exercises"
   ]
  },
  {
   "cell_type": "code",
   "execution_count": 2,
   "id": "c28d261c-220c-4892-b718-1621743ba4c2",
   "metadata": {},
   "outputs": [
    {
     "name": "stdout",
     "output_type": "stream",
     "text": [
      "My favorite color is Green.\n",
      "The year now is 2024.\n",
      "1000 years ago, it was 1024.\n"
     ]
    }
   ],
   "source": [
    "fav_color = \"Green\"\n",
    "cur_year = 2024\n",
    "\n",
    "print(f'My favorite color is {fav_color}.')\n",
    "print(f'The year now is {cur_year}.')\n",
    "\n",
    "years_back = 1000\n",
    "print(f'{years_back} years ago, it was {cur_year - years_back}.')"
   ]
  },
  {
   "cell_type": "code",
   "execution_count": 3,
   "id": "0a138806-9205-4519-891c-0c6bbb938457",
   "metadata": {},
   "outputs": [
    {
     "name": "stdout",
     "output_type": "stream",
     "text": [
      "23\n"
     ]
    }
   ],
   "source": [
    "age = 22\n",
    "age += 1\n",
    "print(age)"
   ]
  },
  {
   "cell_type": "code",
   "execution_count": 4,
   "id": "14e1dd11-7b91-4898-9220-ca00c8bdf24f",
   "metadata": {},
   "outputs": [
    {
     "name": "stdout",
     "output_type": "stream",
     "text": [
      "<class 'int'>\n",
      "<class 'str'>\n"
     ]
    }
   ],
   "source": [
    "num = 24\n",
    "print(type(num))\n",
    "num = \"24\"\n",
    "print(type(num))"
   ]
  },
  {
   "cell_type": "markdown",
   "id": "2b77dbbe-0340-4dc0-abbb-47cf28a18a5b",
   "metadata": {},
   "source": [
    "# Numbers Exercises"
   ]
  },
  {
   "cell_type": "code",
   "execution_count": 5,
   "id": "84f3ac87-9ef2-4734-8a88-87631634d449",
   "metadata": {},
   "outputs": [
    {
     "name": "stdout",
     "output_type": "stream",
     "text": [
      "Me and my friend's ages add up to 49.\n"
     ]
    }
   ],
   "source": [
    "friends_age = 26\n",
    "print(f'Me and my friend\\'s ages add up to {age + friends_age}.')"
   ]
  },
  {
   "cell_type": "code",
   "execution_count": 6,
   "id": "b1cb1606-cc70-4e39-bc3e-33d0e87a3b10",
   "metadata": {},
   "outputs": [
    {
     "name": "stdout",
     "output_type": "stream",
     "text": [
      "Is it hot today: False\n"
     ]
    }
   ],
   "source": [
    "temp = 45\n",
    "hot = True if temp > 75 else False\n",
    "print(\"Is it hot today:\", hot)"
   ]
  },
  {
   "cell_type": "code",
   "execution_count": 7,
   "id": "955925cc-d35c-481b-8875-7ac9fee24b86",
   "metadata": {},
   "outputs": [
    {
     "name": "stdout",
     "output_type": "stream",
     "text": [
      "The area of a circle with a radius of 5 is equal to ~78.54.\n"
     ]
    }
   ],
   "source": [
    "import math\n",
    "\n",
    "radius = 5\n",
    "area = math.pi * radius ** 2\n",
    "print(f'The area of a circle with a radius of {radius} is equal to ~{\"%.2f\" % area}.')"
   ]
  },
  {
   "cell_type": "code",
   "execution_count": 8,
   "id": "927dc353-1814-47bd-8833-c17603893f7c",
   "metadata": {},
   "outputs": [
    {
     "name": "stdout",
     "output_type": "stream",
     "text": [
      "Hi, I'm Jared and my hobby is Gaming.\n"
     ]
    }
   ],
   "source": [
    "fname = \"Jared\"\n",
    "hobby = \"Gaming\"\n",
    "\n",
    "print(\"Hi, I'm \" + fname + \" and my hobby is \" + hobby + \".\");"
   ]
  },
  {
   "cell_type": "code",
   "execution_count": 9,
   "id": "ca6d10a2-29ef-4442-9375-9116b51b7e55",
   "metadata": {},
   "outputs": [
    {
     "name": "stdout",
     "output_type": "stream",
     "text": [
      "Science\n"
     ]
    }
   ],
   "source": [
    "phrase = \"Data Science\"\n",
    "print(phrase[5:])"
   ]
  },
  {
   "cell_type": "code",
   "execution_count": 10,
   "id": "15ab5339-9346-468a-87c2-64e0c8c8398b",
   "metadata": {},
   "outputs": [
    {
     "name": "stdout",
     "output_type": "stream",
     "text": [
      "jared hortaleza\n",
      "Jared Hortaleza\n"
     ]
    }
   ],
   "source": [
    "full_name = \"Jared Hortaleza\".lower()\n",
    "print(full_name)\n",
    "print(full_name.title())"
   ]
  },
  {
   "cell_type": "code",
   "execution_count": 11,
   "id": "93acdea3-69d5-42aa-a37e-9dfd5f757702",
   "metadata": {},
   "outputs": [
    {
     "name": "stdout",
     "output_type": "stream",
     "text": [
      "True\n"
     ]
    }
   ],
   "source": [
    "sentence = \"Learning Python is fun!\"\n",
    "print(\"Python\" in sentence)"
   ]
  },
  {
   "cell_type": "code",
   "execution_count": 12,
   "id": "309bb3b9-d0d8-4602-bb6d-b606157f21b0",
   "metadata": {},
   "outputs": [
    {
     "name": "stdout",
     "output_type": "stream",
     "text": [
      "['Learning', 'Python', 'is', 'fun!']\n"
     ]
    }
   ],
   "source": [
    "print(sentence.split())"
   ]
  },
  {
   "cell_type": "markdown",
   "id": "065784f4-fb5b-452e-83db-0741f747d35e",
   "metadata": {},
   "source": [
    "# List Exercises\n",
    "\n",
    "1. List Creation and Modification: Create a list of your three favorite movies. Then, add another movie to the list and remove one. Print the final list.\n",
    "2. Working with List Methods: Given a list of numbers, add two more numbers to it using append(), then remove the first number using pop(). Print the new list and its length.\n",
    "3. List Indexing and Slicing: Create a list of five random numbers. Print the third number in the list, then print the last two numbers in the list using slicing\n",
    "4. Nested Lists: Create a list that contains three other lists: the first list with numbers, the second with strings, and the third with a mix of numbers and strings. Print this nested list."
   ]
  },
  {
   "cell_type": "code",
   "execution_count": 13,
   "id": "327e3bac-9eb5-4353-9002-2df411d6806b",
   "metadata": {},
   "outputs": [
    {
     "name": "stdout",
     "output_type": "stream",
     "text": [
      "['Matrix', 'Enter the Dragon', 'Avengers: IW', 'Tenet']\n",
      "['Matrix', 'Enter the Dragon', 'Avengers: IW']\n",
      "Enter the Dragon\n",
      "['Enter the Dragon', 'Avengers: IW']\n",
      "[[1, 2, 3], ['1', '2', '3'], [4, '5', 6]]\n"
     ]
    }
   ],
   "source": [
    "fave_movies = [\"Matrix\", \"Enter the Dragon\", \"Avengers: IW\"]\n",
    "fave_movies.append(\"Tenet\")\n",
    "\n",
    "print(fave_movies)\n",
    "\n",
    "fave_movies.pop()\n",
    "\n",
    "print(fave_movies)\n",
    "print(fave_movies[1])\n",
    "print(fave_movies[1:])\n",
    "\n",
    "nested_list = [[1, 2, 3], [\"1\", \"2\", \"3\"], [4, \"5\", 6]]\n",
    "print(nested_list)"
   ]
  },
  {
   "cell_type": "markdown",
   "id": "c5ba8100",
   "metadata": {},
   "source": [
    "# List Exercises"
   ]
  },
  {
   "cell_type": "code",
   "execution_count": 14,
   "id": "de0d5b4d",
   "metadata": {},
   "outputs": [
    {
     "name": "stdout",
     "output_type": "stream",
     "text": [
      "['melon', 'mango', 'kiwi']\n",
      "20 40\n",
      "[30, 40, 50]\n",
      "[1, 4, 9, 16, 25]\n"
     ]
    }
   ],
   "source": [
    "fruits = [\"banana\", \"melon\", \"mango\"]\n",
    "fruits.append(\"kiwi\")\n",
    "fruits.remove(\"banana\")\n",
    "print(fruits)\n",
    "\n",
    "numbers = [10, 20, 30, 40, 50]\n",
    "print(numbers[1], numbers[3])\n",
    "print(numbers[2:])\n",
    "\n",
    "num = [1, 2, 3, 4, 5]\n",
    "exponentials = [i ** 2 for i in num]\n",
    "print(exponentials)"
   ]
  },
  {
   "cell_type": "markdown",
   "id": "886bfa16",
   "metadata": {},
   "source": [
    "# Tuple Exercises"
   ]
  },
  {
   "cell_type": "code",
   "execution_count": 15,
   "id": "bfd45e41",
   "metadata": {},
   "outputs": [
    {
     "name": "stdout",
     "output_type": "stream",
     "text": [
      "21\n"
     ]
    }
   ],
   "source": [
    "info = (\"Jared\", 21)\n",
    "print(info[1])"
   ]
  },
  {
   "cell_type": "code",
   "execution_count": 16,
   "id": "71506475",
   "metadata": {},
   "outputs": [
    {
     "ename": "TypeError",
     "evalue": "'tuple' object does not support item assignment",
     "output_type": "error",
     "traceback": [
      "\u001b[1;31m---------------------------------------------------------------------------\u001b[0m",
      "\u001b[1;31mTypeError\u001b[0m                                 Traceback (most recent call last)",
      "Cell \u001b[1;32mIn[16], line 2\u001b[0m\n\u001b[0;32m      1\u001b[0m months \u001b[38;5;241m=\u001b[39m (\u001b[38;5;124m\"\u001b[39m\u001b[38;5;124mJanuary\u001b[39m\u001b[38;5;124m\"\u001b[39m, \u001b[38;5;124m\"\u001b[39m\u001b[38;5;124mFebruary\u001b[39m\u001b[38;5;124m\"\u001b[39m, \u001b[38;5;124m\"\u001b[39m\u001b[38;5;124mMarch\u001b[39m\u001b[38;5;124m\"\u001b[39m, \u001b[38;5;124m\"\u001b[39m\u001b[38;5;124mApril\u001b[39m\u001b[38;5;124m\"\u001b[39m, \u001b[38;5;124m\"\u001b[39m\u001b[38;5;124mMay\u001b[39m\u001b[38;5;124m\"\u001b[39m, \u001b[38;5;124m\"\u001b[39m\u001b[38;5;124mJune\u001b[39m\u001b[38;5;124m\"\u001b[39m, \u001b[38;5;124m\"\u001b[39m\u001b[38;5;124mJuly\u001b[39m\u001b[38;5;124m\"\u001b[39m, \u001b[38;5;124m\"\u001b[39m\u001b[38;5;124mAugust\u001b[39m\u001b[38;5;124m\"\u001b[39m, \u001b[38;5;124m\"\u001b[39m\u001b[38;5;124mSeptember\u001b[39m\u001b[38;5;124m\"\u001b[39m, \u001b[38;5;124m\"\u001b[39m\u001b[38;5;124mOctober\u001b[39m\u001b[38;5;124m\"\u001b[39m, \u001b[38;5;124m\"\u001b[39m\u001b[38;5;124mNovember\u001b[39m\u001b[38;5;124m\"\u001b[39m, \u001b[38;5;124m\"\u001b[39m\u001b[38;5;124mDecember\u001b[39m\u001b[38;5;124m\"\u001b[39m)\n\u001b[1;32m----> 2\u001b[0m \u001b[43mmonths\u001b[49m\u001b[43m[\u001b[49m\u001b[38;5;241;43m0\u001b[39;49m\u001b[43m]\u001b[49m \u001b[38;5;241m=\u001b[39m \u001b[38;5;124m\"\u001b[39m\u001b[38;5;124mNewuary\u001b[39m\u001b[38;5;124m\"\u001b[39m\n\u001b[0;32m      3\u001b[0m \u001b[38;5;28mprint\u001b[39m(months)\n",
      "\u001b[1;31mTypeError\u001b[0m: 'tuple' object does not support item assignment"
     ]
    }
   ],
   "source": [
    "months = (\"January\", \"February\", \"March\", \"April\", \"May\", \"June\", \"July\", \"August\", \"September\", \"October\", \"November\", \"December\")\n",
    "months[0] = \"Newuary\"\n",
    "print(months)"
   ]
  },
  {
   "cell_type": "code",
   "execution_count": null,
   "id": "cb487766",
   "metadata": {},
   "outputs": [],
   "source": [
    "colors = (\"green\", \"blue\", \"red\", \"yellow\", \"silver\")\n",
    "g, r, b, y, s = colors[0], colors[1], colors[2], colors[3], colors[4]\n",
    "print(g, r, b, y, s)"
   ]
  },
  {
   "cell_type": "code",
   "execution_count": null,
   "id": "f0c467be",
   "metadata": {},
   "outputs": [],
   "source": [
    "student = {\"name\": \"Joe\", \"age\": 19, \"course\": \"Computer Science\"}\n",
    "student[\"grade\"] = 90\n",
    "print(student.get(\"grade\"))\n",
    "\n",
    "student[\"age\"] = student[\"age\"] + 1\n",
    "del student[\"grade\"]\n",
    "print(student)"
   ]
  },
  {
   "cell_type": "code",
   "execution_count": null,
   "id": "29d59e40",
   "metadata": {},
   "outputs": [],
   "source": [
    "numbers = [1, 2, 3, 4, 5]\n",
    "print({x:x ** x for x in numbers})"
   ]
  },
  {
   "cell_type": "code",
   "execution_count": null,
   "id": "105a3329",
   "metadata": {},
   "outputs": [],
   "source": [
    "age = int(input(\"Enter your age: \"))\n",
    "print(f\"Your age is {age}.\")\n",
    "if (age > 63):\n",
    "    print(\"You're a senior citizen.\")\n",
    "elif (age > 21):\n",
    "    print(\"You're an adult.\")\n",
    "elif (age > 12):\n",
    "    print(\"You're a teenager.\")\n",
    "else:\n",
    "    print(\"You're a child.\")"
   ]
  },
  {
   "cell_type": "code",
   "execution_count": null,
   "id": "379ffcf4",
   "metadata": {},
   "outputs": [],
   "source": [
    "def add(a, b):\n",
    "    return a + b\n",
    "\n",
    "print(add(2, 3))"
   ]
  },
  {
   "cell_type": "code",
   "execution_count": null,
   "id": "27b8bbaa",
   "metadata": {},
   "outputs": [],
   "source": [
    "movie_list = ['Name', 1999, 'Action']\n",
    "movie_tuple = ('Name', 1999, 'Action')\n",
    "movie_dict = {'Name': 'Name', 'Year': 1999, 'Genre': 'Action'}\n",
    "\n",
    "print(movie_list, movie_tuple, movie_dict)"
   ]
  },
  {
   "cell_type": "code",
   "execution_count": null,
   "id": "20bcae47",
   "metadata": {},
   "outputs": [],
   "source": [
    "for i in range(10):\n",
    "    print(i + 1)\n",
    "\n",
    "print(\"------------------\")\n",
    "\n",
    "count = 10\n",
    "while (count > 0):\n",
    "    print(count)\n",
    "    count -= 1"
   ]
  },
  {
   "cell_type": "code",
   "execution_count": null,
   "id": "10c1c624",
   "metadata": {},
   "outputs": [],
   "source": [
    "num_list = [i for i in range(1, 20) if i % 2 == 0]\n",
    "\n",
    "print(num_list)\n",
    "\n",
    "result = map(lambda x: x if x % 4 == 0 else False, num_list)\n",
    "print(list(filter(bool, result)))"
   ]
  },
  {
   "cell_type": "code",
   "execution_count": null,
   "id": "f740ec5d",
   "metadata": {},
   "outputs": [],
   "source": [
    "class Profile:\n",
    "    def __init__(self, name, age):\n",
    "        self.name_input = name\n",
    "        self.age_input = age\n",
    "\n",
    "    def introduction(self, name):\n",
    "        return f\"Hello, {name}. {self.name_input} is glad to meet you!\"\n",
    "    \n",
    "    def ending_speech(self, name):\n",
    "        return f\"Goodbye, {name} and {self.name_input}\"\n",
    "    \n",
    "person_A = Profile(\"Jared\", 23)\n",
    "print(person_A.introduction(\"Jeff\"))\n",
    "print(person_A.ending_speech(\"Jeff\"))"
   ]
  },
  {
   "cell_type": "code",
   "execution_count": null,
   "id": "ad8ab142",
   "metadata": {},
   "outputs": [],
   "source": [
    "class Animal:\n",
    "    def __init__(self, name, age):\n",
    "        self.name = name\n",
    "        self.age = age\n",
    "\n",
    "    def meow(self):\n",
    "        return f\"{self.name} says Meow!\"\n",
    "    \n",
    "cat = Animal(\"The Cat\", 23)\n",
    "print(cat.meow())"
   ]
  },
  {
   "cell_type": "code",
   "execution_count": null,
   "id": "384331ac",
   "metadata": {},
   "outputs": [],
   "source": [
    "class SurveyTemplate:\n",
    "    def __init__(self, respondent_id, responses):\n",
    "        self.respondent_id = respondent_id\n",
    "        self.responses = responses\n",
    "\n",
    "\n",
    "class CustomerFeedbackSurvey(SurveyTemplate):\n",
    "    def __init__(self, respondent_id, responses, product_id):\n",
    "        super().__init__(respondent_id, responses)\n",
    "        self.product_id = product_id\n",
    "\n",
    "product_survey = CustomerFeedbackSurvey(respondent_id=\"002\", responses={\"Q1\": \"Yes\", \"Q2\": \"No\"}, product_id=\"P123\")\n",
    "print(product_survey.product_id)"
   ]
  },
  {
   "cell_type": "code",
   "execution_count": null,
   "id": "2900b7c9",
   "metadata": {},
   "outputs": [],
   "source": [
    "class Animal:\n",
    "    def __init__(self, name, age):\n",
    "        self.name = name\n",
    "        self.age = age\n",
    "\n",
    "    \n",
    "class Cat(Animal):\n",
    "    def meow(self):\n",
    "        return f\"{self.name} says Meow!\"\n",
    "\n",
    "\n",
    "class Bird(Animal):\n",
    "    def speak(self):\n",
    "        return f\"{self.name} says *Chirp!*\"\n",
    "    \n",
    "cat = Cat(\"The Cat\", 23)\n",
    "print(cat.meow())\n",
    "\n",
    "birdo = Bird(\"Birdo\", 3)\n",
    "print(birdo.speak())"
   ]
  },
  {
   "cell_type": "code",
   "execution_count": null,
   "id": "58400ea3",
   "metadata": {},
   "outputs": [],
   "source": [
    "class Person:\n",
    "    def setAge(self, age):\n",
    "        self.__age = age\n",
    "\n",
    "    def getAge(self):\n",
    "        return self.__age\n",
    "\n",
    "person_A = Person()\n",
    "person_A.setAge(36)\n",
    "person_A.getAge()"
   ]
  },
  {
   "cell_type": "code",
   "execution_count": null,
   "id": "e8985988",
   "metadata": {},
   "outputs": [],
   "source": [
    "import math as M\n",
    "\n",
    "\n",
    "class Shape:\n",
    "    def __init__(self, length, width):\n",
    "        self.length = length\n",
    "        self.width = width\n",
    "\n",
    "    def calculateArea(self):\n",
    "        return f'The area of the shape is {self.length * self.width}.'\n",
    "\n",
    "\n",
    "class Circle(Shape):\n",
    "    def __init__(self, radius):\n",
    "        self.radius = radius\n",
    "\n",
    "    def calculateArea(self):\n",
    "        return f'The area of the circle is {M.pi * self.radius * self.radius}.'\n",
    "\n",
    "\n",
    "class Square(Shape):\n",
    "    def __init__(self, side):\n",
    "        self.side = side\n",
    "\n",
    "    def calculateArea(self):\n",
    "        return f'The area of the square is {self.side * self.side}.'\n",
    "\n",
    "\n",
    "shape = Shape(20, 22)\n",
    "circle = Circle(5)\n",
    "square = Square(30)\n",
    "\n",
    "print(shape.calculateArea())\n",
    "print(circle.calculateArea())\n",
    "print(square.calculateArea())"
   ]
  },
  {
   "cell_type": "code",
   "execution_count": null,
   "id": "92bc3b78",
   "metadata": {},
   "outputs": [],
   "source": [
    "class WaterAnimal:\n",
    "    def swim(self):\n",
    "        return \"swimming...\"\n",
    "\n",
    "class LandAnimal:\n",
    "    def walk(self):\n",
    "        return \"walking...\"\n",
    "    \n",
    "class Amphibian(WaterAnimal, LandAnimal):\n",
    "    def move(self):\n",
    "        return f\"The animal is {self.swim()} and {self.walk()}\"\n",
    "\n",
    "amphibian = Amphibian()\n",
    "amphibian.move()\n"
   ]
  },
  {
   "cell_type": "code",
   "execution_count": null,
   "id": "0808dff8",
   "metadata": {},
   "outputs": [],
   "source": [
    "class myClass:\n",
    "    @staticmethod\n",
    "    def static_method():\n",
    "        print(\"This is static method\")\n",
    "        \n",
    "    @classmethod\n",
    "    def class_method(self):\n",
    "        print(\"This is class method\")\n",
    "\n",
    "myClass.static_method()\n",
    "myClass.class_method()"
   ]
  },
  {
   "cell_type": "code",
   "execution_count": null,
   "id": "99a00901",
   "metadata": {},
   "outputs": [],
   "source": [
    "class DataTransform:\n",
    "    @staticmethod\n",
    "    def clean_data(data):\n",
    "        cleaned_data = [d.strip() for d in data]\n",
    "        return cleaned_data\n",
    "    \n",
    "    @classmethod\n",
    "    def transform_data(cls, data):\n",
    "        return data\n",
    "    \n",
    "raw_data = [\"  data1  \", \"   data2   \", \"data3  \"]\n",
    "\n",
    "print(DataTransform.clean_data(raw_data))\n",
    "print(DataTransform.transform_data(raw_data))"
   ]
  },
  {
   "cell_type": "code",
   "execution_count": null,
   "id": "dbcb16e5",
   "metadata": {},
   "outputs": [],
   "source": [
    "class Celsius:\n",
    "    def __init__(self, temperature = 0):\n",
    "        self._temperature = temperature\n",
    "\n",
    "    @property\n",
    "    def temperature(self):\n",
    "        return self._temperature\n",
    "    \n",
    "    @temperature.setter\n",
    "    def temperature(self, value):\n",
    "        if value < -273.15:\n",
    "            raise ValueError(\"Temperature too low!\")\n",
    "        self._temperature = value\n",
    "\n",
    "    @temperature.deleter\n",
    "    def temperature(self):\n",
    "        del self._temperature"
   ]
  },
  {
   "cell_type": "code",
   "execution_count": null,
   "id": "9cd23ab1",
   "metadata": {},
   "outputs": [],
   "source": [
    "class Celsius:\n",
    "    def __init__(self, temperature = 0):\n",
    "        self._temperature = temperature\n",
    "\n",
    "    def temperature(self):\n",
    "        return self._temperature\n",
    "    \n",
    "    def temperature(self, value):\n",
    "        if value < -273.15:\n",
    "            raise ValueError(\"Temperature too low!\")\n",
    "        self._temperature = value\n",
    "\n",
    "    def temperature(self):\n",
    "        del self._temperature\n",
    "\n",
    "tempA = Celsius()\n",
    "tempA.temperature = -300\n",
    "print(tempA.temperature)"
   ]
  },
  {
   "cell_type": "code",
   "execution_count": null,
   "id": "4190b128",
   "metadata": {},
   "outputs": [],
   "source": [
    "# Dunder Methods (__str__ = name of object)\n",
    "class Book: \n",
    "    def __init__(self, title, author):\n",
    "        self.title = title\n",
    "        self.author = author\n",
    "\n",
    "    def __str__(self):\n",
    "        return f\"{self.title} by {self.author}\"\n",
    "\n",
    "book = Book(\"Python\", \"Mike\")\n",
    "\n",
    "print(book)"
   ]
  },
  {
   "cell_type": "code",
   "execution_count": null,
   "id": "48510d55",
   "metadata": {},
   "outputs": [],
   "source": [
    "# Dunder Methods (__repr__ = representation)\n",
    "class Vector:\n",
    "    def __init__(self, x, y):\n",
    "        self.x = x\n",
    "        self.y = y\n",
    "\n",
    "    def __repr__(self):\n",
    "        return f\"Vector({self.x}, {self.y})\"\n",
    "    \n",
    "v1 = Vector(3,4)\n",
    "v2 = Vector(5,6)\n",
    "\n",
    "print(repr(v1))\n",
    "print(repr(v2))"
   ]
  }
 ],
 "metadata": {
  "kernelspec": {
   "display_name": "Python 3 (ipykernel)",
   "language": "python",
   "name": "python3"
  },
  "language_info": {
   "codemirror_mode": {
    "name": "ipython",
    "version": 3
   },
   "file_extension": ".py",
   "mimetype": "text/x-python",
   "name": "python",
   "nbconvert_exporter": "python",
   "pygments_lexer": "ipython3",
   "version": "3.12.0"
  }
 },
 "nbformat": 4,
 "nbformat_minor": 5
}
